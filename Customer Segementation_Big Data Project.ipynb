{
 "cells": [
  {
   "cell_type": "markdown",
   "id": "746d056d-ac92-4ff8-a143-d0c4842b1b13",
   "metadata": {
    "tags": []
   },
   "source": [
    "## Customer Segmentation for E-commerce Business"
   ]
  },
  {
   "cell_type": "markdown",
   "id": "8c08a77c-2301-4b90-b072-684299152a0a",
   "metadata": {},
   "source": [
    "*****"
   ]
  },
  {
   "cell_type": "markdown",
   "id": "218bd756-2a21-4d3b-88b8-dfad857da266",
   "metadata": {},
   "source": [
    "In e-commerce, customer segmentation is essential for tailoring marketing strategies, enhancing customer satisfaction, and boosting revenue. By dividing customers into distinct groups based on their behaviors, preferences, and demographics, businesses can better understand and serve their audience.\n",
    "\n",
    "This project focuses on implementing customer segmentation using clustering algorithms on an e-commerce dataset. We’ll start by exploring and preprocessing the data, then engineer relevant features. Next, we’ll apply clustering techniques, evaluate the models, and visualize the results to derive actionable business insights.\n",
    "\n",
    "We’ll be running this Big Data project on Amazon EMR using PySpark, with our data stored in AWS S3."
   ]
  },
  {
   "cell_type": "code",
   "execution_count": 1,
   "id": "7d8f09af-053c-46ae-b6c8-f0327f1f25a5",
   "metadata": {
    "execution": {
     "iopub.execute_input": "2024-10-30T19:12:20.959489Z",
     "iopub.status.busy": "2024-10-30T19:12:20.959112Z",
     "iopub.status.idle": "2024-10-30T19:13:00.663290Z",
     "shell.execute_reply": "2024-10-30T19:13:00.662488Z",
     "shell.execute_reply.started": "2024-10-30T19:12:20.959454Z"
    },
    "tags": []
   },
   "outputs": [
    {
     "data": {
      "application/vnd.jupyter.widget-view+json": {
       "model_id": "815e4d9fd293417ba47f35232833acaf",
       "version_major": 2,
       "version_minor": 0
      },
      "text/plain": [
       "VBox()"
      ]
     },
     "metadata": {},
     "output_type": "display_data"
    },
    {
     "name": "stdout",
     "output_type": "stream",
     "text": [
      "Starting Spark application\n"
     ]
    },
    {
     "data": {
      "text/html": [
       "<table>\n<tbody><tr><th>ID</th><th>YARN Application ID</th><th>Kind</th><th>State</th><th>Spark UI</th><th>Driver log</th><th>User</th><th>Current session?</th></tr><tr><td>1</td><td>application_1730312412193_0002</td><td>pyspark</td><td>idle</td><td><a target=\"_blank\" href=\"http://ip-10-0-31-95.ec2.internal:20888/proxy/application_1730312412193_0002/\" class=\"emr-proxy-link j-2SDRNCCBQAE82 application_1730312412193_0002\" emr-resource=\"j-2SDRNCCBQAE82\n\" application-id=\"application_1730312412193_0002\">Link</a></td><td><a target=\"_blank\" href=\"http://ip-10-0-20-157.ec2.internal:8042/node/containerlogs/container_1730312412193_0002_01_000001/livy\">Link</a></td><td>None</td><td>✔</td></tr></tbody></table>"
      ],
      "text/plain": [
       "<IPython.core.display.HTML object>"
      ]
     },
     "metadata": {},
     "output_type": "display_data"
    },
    {
     "data": {
      "application/vnd.jupyter.widget-view+json": {
       "model_id": "",
       "version_major": 2,
       "version_minor": 0
      },
      "text/plain": [
       "FloatProgress(value=0.0, bar_style='info', description='Progress:', layout=Layout(height='25px', width='50%'),…"
      ]
     },
     "metadata": {},
     "output_type": "display_data"
    },
    {
     "name": "stdout",
     "output_type": "stream",
     "text": [
      "SparkSession available as 'spark'.\n"
     ]
    },
    {
     "data": {
      "application/vnd.jupyter.widget-view+json": {
       "model_id": "",
       "version_major": 2,
       "version_minor": 0
      },
      "text/plain": [
       "FloatProgress(value=0.0, bar_style='info', description='Progress:', layout=Layout(height='25px', width='50%'),…"
      ]
     },
     "metadata": {},
     "output_type": "display_data"
    },
    {
     "name": "stdout",
     "output_type": "stream",
     "text": [
      "Spark Session Initialized."
     ]
    }
   ],
   "source": [
    "# src/data_preprocessing.py\n",
    "from pyspark.sql import SparkSession\n",
    "from pyspark.sql.functions import col, sum, count, mean, max, datediff, current_date\n",
    "from pyspark.sql.types import DateType\n",
    "import warnings\n",
    "import os\n",
    "\n",
    "# Set environment variable to disable monitoring widget\n",
    "os.environ['DISABLE_AWS_EDITOR_SPARK_MONITORING_WIDGET'] = 'true'\n",
    "\n",
    "# Initialize Spark session\n",
    "spark = SparkSession.builder \\\n",
    "    .appName(\"CustomerSegmentation\") \\\n",
    "    .config(\"spark.executor.memory\", \"8g\") \\\n",
    "    .config(\"spark.executor.cores\", \"4\") \\\n",
    "    .getOrCreate()\n",
    "\n",
    "# Ignore warnings\n",
    "warnings.filterwarnings('ignore')\n",
    "\n",
    "# Set logging level to DEBUG\n",
    "spark.sparkContext.setLogLevel(\"DEBUG\")\n",
    "\n",
    "print(\"Spark Session Initialized.\")"
   ]
  },
  {
   "cell_type": "markdown",
   "id": "7c1d96e3-7469-48bf-8c52-0bc7623f724c",
   "metadata": {
    "execution": {
     "iopub.execute_input": "2024-10-30T08:13:38.836576Z",
     "iopub.status.busy": "2024-10-30T08:13:38.836338Z",
     "iopub.status.idle": "2024-10-30T08:13:38.883545Z",
     "shell.execute_reply": "2024-10-30T08:13:38.882963Z",
     "shell.execute_reply.started": "2024-10-30T08:13:38.836547Z"
    }
   },
   "source": [
    "### 1. Data Loading and Preprocessing"
   ]
  },
  {
   "cell_type": "markdown",
   "id": "b5d4e3c0-1088-496c-b4da-5c1ebf5661c0",
   "metadata": {},
   "source": [
    "Loading Data from S3"
   ]
  },
  {
   "cell_type": "code",
   "execution_count": 2,
   "id": "14c3a8c3-06eb-47bd-9e8e-bd0984b2bcbf",
   "metadata": {
    "execution": {
     "iopub.execute_input": "2024-10-30T19:13:00.665338Z",
     "iopub.status.busy": "2024-10-30T19:13:00.664913Z",
     "iopub.status.idle": "2024-10-30T19:13:09.977436Z",
     "shell.execute_reply": "2024-10-30T19:13:09.976687Z",
     "shell.execute_reply.started": "2024-10-30T19:13:00.665295Z"
    }
   },
   "outputs": [
    {
     "data": {
      "application/vnd.jupyter.widget-view+json": {
       "model_id": "17af0142fd5749739d447bc7e0dd08bf",
       "version_major": 2,
       "version_minor": 0
      },
      "text/plain": [
       "VBox()"
      ]
     },
     "metadata": {},
     "output_type": "display_data"
    },
    {
     "data": {
      "application/vnd.jupyter.widget-view+json": {
       "model_id": "",
       "version_major": 2,
       "version_minor": 0
      },
      "text/plain": [
       "FloatProgress(value=0.0, bar_style='info', description='Progress:', layout=Layout(height='25px', width='50%'),…"
      ]
     },
     "metadata": {},
     "output_type": "display_data"
    }
   ],
   "source": [
    "behavioral_df = spark.read.parquet('s3://meet-big-data-bucket/behavioral.parquet')\n",
    "transactions_df = spark.read.parquet('s3://meet-big-data-bucket/transactions.parquet')\n",
    "engagement_df = spark.read.parquet('s3://meet-big-data-bucket/engagement.parquet')\n",
    "demographics_df = spark.read.parquet('s3://meet-big-data-bucket/demographics.parquet')"
   ]
  },
  {
   "cell_type": "code",
   "execution_count": 3,
   "id": "3483e020-7fd8-4dcc-9a19-72f816e3a527",
   "metadata": {
    "execution": {
     "iopub.execute_input": "2024-10-30T19:13:09.979292Z",
     "iopub.status.busy": "2024-10-30T19:13:09.979095Z",
     "iopub.status.idle": "2024-10-30T19:13:19.281480Z",
     "shell.execute_reply": "2024-10-30T19:13:19.280755Z",
     "shell.execute_reply.started": "2024-10-30T19:13:09.979262Z"
    }
   },
   "outputs": [
    {
     "data": {
      "application/vnd.jupyter.widget-view+json": {
       "model_id": "26d4462c41aa42958a738ad3eb1d794b",
       "version_major": 2,
       "version_minor": 0
      },
      "text/plain": [
       "VBox()"
      ]
     },
     "metadata": {},
     "output_type": "display_data"
    },
    {
     "data": {
      "application/vnd.jupyter.widget-view+json": {
       "model_id": "",
       "version_major": 2,
       "version_minor": 0
      },
      "text/plain": [
       "FloatProgress(value=0.0, bar_style='info', description='Progress:', layout=Layout(height='25px', width='50%'),…"
      ]
     },
     "metadata": {},
     "output_type": "display_data"
    },
    {
     "name": "stdout",
     "output_type": "stream",
     "text": [
      "+--------------------+--------------------+-------------------+-----------+---------------+----------+\n",
      "|           SessionID|          CustomerID|        SessionDate|PagesViewed|SessionDuration|DeviceType|\n",
      "+--------------------+--------------------+-------------------+-----------+---------------+----------+\n",
      "|e423b82b-7707-432...|b74fcf86-ca7b-4da...|2024-03-19 13:48:59|          1|          23.62|   Desktop|\n",
      "|432f9f7f-e567-4f3...|1f0d519b-b979-415...|2024-07-09 01:52:53|          1|          51.11|   Desktop|\n",
      "|46deb9d4-971b-4f6...|155ed1a7-fd70-407...|2023-12-08 11:56:55|         29|            1.0|    Mobile|\n",
      "|43588c68-6ba0-425...|8d4212a8-cb66-45c...|2024-03-17 09:05:31|         55|          35.24|   Desktop|\n",
      "|0daf9055-b142-41d...|199abfca-1af5-442...|2024-05-12 03:14:18|          2|            1.0|    Tablet|\n",
      "+--------------------+--------------------+-------------------+-----------+---------------+----------+\n",
      "only showing top 5 rows\n",
      "\n",
      "root\n",
      " |-- SessionID: string (nullable = true)\n",
      " |-- CustomerID: string (nullable = true)\n",
      " |-- SessionDate: string (nullable = true)\n",
      " |-- PagesViewed: long (nullable = true)\n",
      " |-- SessionDuration: double (nullable = true)\n",
      " |-- DeviceType: string (nullable = true)\n",
      "\n",
      "+--------------------+---+------+--------+-----------+--------+--------------+-------------+\n",
      "|          CustomerID|Age|Gender|Location|  Education|  Income|MarriageStatus|LoyaltyStatus|\n",
      "+--------------------+---+------+--------+-----------+--------+--------------+-------------+\n",
      "|f788f889-763c-4be...| 33|  Male| Chicago|   Bachelor| 28431.5|        Single|         NULL|\n",
      "|6e19ed05-6180-460...| 70|  Male| Chicago|High School|31420.64|        Single|       Silver|\n",
      "|66c01c6b-322e-47b...| 25|  Male| Chicago|      Other|47195.57|       Married|       Bronze|\n",
      "|4fdb8961-447c-433...| 38|  Male| Phoenix|   Bachelor|51526.43|        Single|       Bronze|\n",
      "|353d0bed-2332-4a9...| 33|Female| Chicago|High School|57504.97|       Married|       Bronze|\n",
      "+--------------------+---+------+--------+-----------+--------+--------------+-------------+\n",
      "only showing top 5 rows\n",
      "\n",
      "root\n",
      " |-- CustomerID: string (nullable = true)\n",
      " |-- Age: long (nullable = true)\n",
      " |-- Gender: string (nullable = true)\n",
      " |-- Location: string (nullable = true)\n",
      " |-- Education: string (nullable = true)\n",
      " |-- Income: double (nullable = true)\n",
      " |-- MarriageStatus: string (nullable = true)\n",
      " |-- LoyaltyStatus: string (nullable = true)\n",
      "\n",
      "+--------------------+--------------------+-------------------+------------+------+-----------------+\n",
      "|             EmailID|          CustomerID|       CampaignDate|EmailsOpened|Clicks|PointsAccumulated|\n",
      "+--------------------+--------------------+-------------------+------------+------+-----------------+\n",
      "|bff9433a-3fec-4bb...|515e6580-06de-44e...|2024-09-16 08:54:40|           4|     4|             3175|\n",
      "|a091be87-4499-468...|aede0531-9345-4ef...|2024-03-09 21:00:01|           1|     0|              550|\n",
      "|50d57292-5abc-464...|b3d77899-5d6f-431...|2023-11-25 19:15:35|           9|     8|             5929|\n",
      "|33dbb616-19b4-41f...|5691dca8-1efe-48f...|2024-02-14 19:16:42|          17|    15|            19518|\n",
      "|2a4c4c22-e142-49b...|f59df735-f6da-406...|2024-03-23 19:00:15|          13|     0|             2532|\n",
      "+--------------------+--------------------+-------------------+------------+------+-----------------+\n",
      "only showing top 5 rows\n",
      "\n",
      "root\n",
      " |-- EmailID: string (nullable = true)\n",
      " |-- CustomerID: string (nullable = true)\n",
      " |-- CampaignDate: string (nullable = true)\n",
      " |-- EmailsOpened: long (nullable = true)\n",
      " |-- Clicks: long (nullable = true)\n",
      " |-- PointsAccumulated: long (nullable = true)\n",
      "\n",
      "+--------------------+--------------------+-------------------+---------------+------------------+\n",
      "|       TransactionID|          CustomerID|    TransactionDate|ProductCategory|    PurchaseAmount|\n",
      "+--------------------+--------------------+-------------------+---------------+------------------+\n",
      "|c6e263ac-c0e3-4d2...|77c171e5-886b-4a7...|2024-10-13 15:40:22|         Sports|1198.2469515570378|\n",
      "|d4952dbb-5daf-40a...|6f10f8f9-b886-459...|2024-08-11 13:45:19|       Clothing| 70.49519298542052|\n",
      "|d356e8e9-95e8-435...|59e54230-7cd9-44f...|2024-01-22 02:01:59|         Sports| 1134.407909459637|\n",
      "|6197715e-b548-450...|85c5dd24-8a0d-426...|2024-08-10 22:22:36|          Books| 298.7801742830491|\n",
      "|c22ce538-1fc7-455...|8d1a1459-57da-4af...|2024-07-06 18:28:46|          Books|196.91058822992468|\n",
      "+--------------------+--------------------+-------------------+---------------+------------------+\n",
      "only showing top 5 rows\n",
      "\n",
      "root\n",
      " |-- TransactionID: string (nullable = true)\n",
      " |-- CustomerID: string (nullable = true)\n",
      " |-- TransactionDate: string (nullable = true)\n",
      " |-- ProductCategory: string (nullable = true)\n",
      " |-- PurchaseAmount: double (nullable = true)"
     ]
    }
   ],
   "source": [
    "behavioral_df.show(5)\n",
    "behavioral_df.printSchema()\n",
    "demographics_df.show(5)\n",
    "demographics_df.printSchema()\n",
    "engagement_df.show(5)\n",
    "engagement_df.printSchema()\n",
    "transactions_df.show(5)\n",
    "transactions_df.printSchema()"
   ]
  },
  {
   "cell_type": "markdown",
   "id": "a6787ff7-6d49-46eb-a354-6e52f4d95ffc",
   "metadata": {
    "tags": []
   },
   "source": [
    "Convert Date Columns to Date type"
   ]
  },
  {
   "cell_type": "code",
   "execution_count": 4,
   "id": "e1a4c76b-91a9-4331-82e7-07f0b6446ff1",
   "metadata": {
    "execution": {
     "iopub.execute_input": "2024-10-30T19:13:19.283101Z",
     "iopub.status.busy": "2024-10-30T19:13:19.282891Z",
     "iopub.status.idle": "2024-10-30T19:13:19.553746Z",
     "shell.execute_reply": "2024-10-30T19:13:19.553006Z",
     "shell.execute_reply.started": "2024-10-30T19:13:19.283071Z"
    }
   },
   "outputs": [
    {
     "data": {
      "application/vnd.jupyter.widget-view+json": {
       "model_id": "fa96ef3412d64d5cbcebfa99de7439db",
       "version_major": 2,
       "version_minor": 0
      },
      "text/plain": [
       "VBox()"
      ]
     },
     "metadata": {},
     "output_type": "display_data"
    },
    {
     "data": {
      "application/vnd.jupyter.widget-view+json": {
       "model_id": "",
       "version_major": 2,
       "version_minor": 0
      },
      "text/plain": [
       "FloatProgress(value=0.0, bar_style='info', description='Progress:', layout=Layout(height='25px', width='50%'),…"
      ]
     },
     "metadata": {},
     "output_type": "display_data"
    }
   ],
   "source": [
    "behavioral_df = behavioral_df.withColumn(\"SessionDate\", col(\"SessionDate\").cast(DateType()))\n",
    "transactions_df = transactions_df.withColumn(\"TransactionDate\", col(\"TransactionDate\").cast(DateType()))\n",
    "engagement_df = engagement_df.withColumn(\"CampaignDate\", col(\"CampaignDate\").cast(DateType()))"
   ]
  },
  {
   "cell_type": "markdown",
   "id": "3684da6b-86c3-4506-9d0b-18429256e20b",
   "metadata": {
    "execution": {
     "iopub.execute_input": "2024-10-30T08:07:10.094621Z",
     "iopub.status.busy": "2024-10-30T08:07:10.094376Z",
     "iopub.status.idle": "2024-10-30T08:07:10.347082Z",
     "shell.execute_reply": "2024-10-30T08:07:10.346410Z",
     "shell.execute_reply.started": "2024-10-30T08:07:10.094593Z"
    }
   },
   "source": [
    "Aggregating Dataframes"
   ]
  },
  {
   "cell_type": "code",
   "execution_count": 5,
   "id": "3fa3936a-5854-453e-8453-deec052733f3",
   "metadata": {
    "execution": {
     "iopub.execute_input": "2024-10-30T19:13:19.554964Z",
     "iopub.status.busy": "2024-10-30T19:13:19.554752Z",
     "iopub.status.idle": "2024-10-30T19:13:19.808900Z",
     "shell.execute_reply": "2024-10-30T19:13:19.808201Z",
     "shell.execute_reply.started": "2024-10-30T19:13:19.554935Z"
    },
    "tags": []
   },
   "outputs": [
    {
     "data": {
      "application/vnd.jupyter.widget-view+json": {
       "model_id": "9f4a83c0e44a4cd8a5c9500b8cf1198a",
       "version_major": 2,
       "version_minor": 0
      },
      "text/plain": [
       "VBox()"
      ]
     },
     "metadata": {},
     "output_type": "display_data"
    },
    {
     "data": {
      "application/vnd.jupyter.widget-view+json": {
       "model_id": "",
       "version_major": 2,
       "version_minor": 0
      },
      "text/plain": [
       "FloatProgress(value=0.0, bar_style='info', description='Progress:', layout=Layout(height='25px', width='50%'),…"
      ]
     },
     "metadata": {},
     "output_type": "display_data"
    }
   ],
   "source": [
    "# Aggregate Transaction Data\n",
    "aggregated_transactions = transactions_df.groupBy(\"CustomerID\").agg(\n",
    "count(\"TransactionID\").alias(\"total_transactions\"),\n",
    "sum(\"PurchaseAmount\").alias(\"total_spent\"),\n",
    "mean(\"PurchaseAmount\").alias(\"avg_transaction_value\"),\n",
    "max(\"TransactionDate\").alias(\"last_purchase_date\")\n",
    ")"
   ]
  },
  {
   "cell_type": "code",
   "execution_count": 6,
   "id": "2aca879e-6c6e-472a-a0ef-711f40d19108",
   "metadata": {
    "execution": {
     "iopub.execute_input": "2024-10-30T19:13:19.810217Z",
     "iopub.status.busy": "2024-10-30T19:13:19.809979Z",
     "iopub.status.idle": "2024-10-30T19:13:20.062709Z",
     "shell.execute_reply": "2024-10-30T19:13:20.061914Z",
     "shell.execute_reply.started": "2024-10-30T19:13:19.810169Z"
    }
   },
   "outputs": [
    {
     "data": {
      "application/vnd.jupyter.widget-view+json": {
       "model_id": "b99a1c750ad5448dbbd5dc2bf94e96ac",
       "version_major": 2,
       "version_minor": 0
      },
      "text/plain": [
       "VBox()"
      ]
     },
     "metadata": {},
     "output_type": "display_data"
    },
    {
     "data": {
      "application/vnd.jupyter.widget-view+json": {
       "model_id": "",
       "version_major": 2,
       "version_minor": 0
      },
      "text/plain": [
       "FloatProgress(value=0.0, bar_style='info', description='Progress:', layout=Layout(height='25px', width='50%'),…"
      ]
     },
     "metadata": {},
     "output_type": "display_data"
    }
   ],
   "source": [
    "# Aggregate Engagement Data\n",
    "aggregated_engagement = engagement_df.groupBy(\"CustomerID\").agg(\n",
    "sum(\"EmailsOpened\").alias(\"total_emails_opened\"),\n",
    "sum(\"Clicks\").alias(\"total_clicks\"),\n",
    "max(\"PointsAccumulated\").alias(\"total_points_accumulated\")\n",
    ")"
   ]
  },
  {
   "cell_type": "code",
   "execution_count": 7,
   "id": "c6845263-1129-4202-a0fd-1049eca91943",
   "metadata": {
    "execution": {
     "iopub.execute_input": "2024-10-30T19:13:20.064022Z",
     "iopub.status.busy": "2024-10-30T19:13:20.063811Z",
     "iopub.status.idle": "2024-10-30T19:13:20.322745Z",
     "shell.execute_reply": "2024-10-30T19:13:20.321784Z",
     "shell.execute_reply.started": "2024-10-30T19:13:20.063992Z"
    }
   },
   "outputs": [
    {
     "data": {
      "application/vnd.jupyter.widget-view+json": {
       "model_id": "78c7dc423b354e06960535350c36c30b",
       "version_major": 2,
       "version_minor": 0
      },
      "text/plain": [
       "VBox()"
      ]
     },
     "metadata": {},
     "output_type": "display_data"
    },
    {
     "data": {
      "application/vnd.jupyter.widget-view+json": {
       "model_id": "",
       "version_major": 2,
       "version_minor": 0
      },
      "text/plain": [
       "FloatProgress(value=0.0, bar_style='info', description='Progress:', layout=Layout(height='25px', width='50%'),…"
      ]
     },
     "metadata": {},
     "output_type": "display_data"
    }
   ],
   "source": [
    "# Aggregate Engagement Data\n",
    "aggregated_engagement = engagement_df.groupBy(\"CustomerID\").agg(\n",
    "sum(\"EmailsOpened\").alias(\"total_emails_opened\"),\n",
    "sum(\"Clicks\").alias(\"total_clicks\"),\n",
    "max(\"PointsAccumulated\").alias(\"total_points_accumulated\")\n",
    ")"
   ]
  },
  {
   "cell_type": "code",
   "execution_count": 8,
   "id": "b348e755-e4e7-46c1-af99-61149c06e08e",
   "metadata": {
    "execution": {
     "iopub.execute_input": "2024-10-30T19:13:20.325738Z",
     "iopub.status.busy": "2024-10-30T19:13:20.325525Z",
     "iopub.status.idle": "2024-10-30T19:13:20.579494Z",
     "shell.execute_reply": "2024-10-30T19:13:20.578733Z",
     "shell.execute_reply.started": "2024-10-30T19:13:20.325708Z"
    }
   },
   "outputs": [
    {
     "data": {
      "application/vnd.jupyter.widget-view+json": {
       "model_id": "0c209f63ca5c40868aba6ec8ab5a63d1",
       "version_major": 2,
       "version_minor": 0
      },
      "text/plain": [
       "VBox()"
      ]
     },
     "metadata": {},
     "output_type": "display_data"
    },
    {
     "data": {
      "application/vnd.jupyter.widget-view+json": {
       "model_id": "",
       "version_major": 2,
       "version_minor": 0
      },
      "text/plain": [
       "FloatProgress(value=0.0, bar_style='info', description='Progress:', layout=Layout(height='25px', width='50%'),…"
      ]
     },
     "metadata": {},
     "output_type": "display_data"
    }
   ],
   "source": [
    "# Aggregate Behavioral Data\n",
    "aggregated_behavioral = behavioral_df.groupBy(\"CustomerID\").agg(\n",
    "sum(\"PagesViewed\").alias(\"total_pages_viewed\"),\n",
    "mean(\"SessionDuration\").alias(\"avg_session_duration\"),\n",
    "count(\"SessionID\").alias(\"total_sessions\")\n",
    ")"
   ]
  },
  {
   "cell_type": "markdown",
   "id": "22911f15-d527-4b00-82fd-2586750d2e57",
   "metadata": {},
   "source": [
    "Merge all aggregated DataFrames with demographics"
   ]
  },
  {
   "cell_type": "code",
   "execution_count": 9,
   "id": "0f715b38-8407-4a87-a3c2-dd968573624b",
   "metadata": {
    "execution": {
     "iopub.execute_input": "2024-10-30T19:13:20.581550Z",
     "iopub.status.busy": "2024-10-30T19:13:20.581317Z",
     "iopub.status.idle": "2024-10-30T19:13:20.834849Z",
     "shell.execute_reply": "2024-10-30T19:13:20.834145Z",
     "shell.execute_reply.started": "2024-10-30T19:13:20.581520Z"
    }
   },
   "outputs": [
    {
     "data": {
      "application/vnd.jupyter.widget-view+json": {
       "model_id": "ee72b1ad3fa64d04a837bc6cdd3017ce",
       "version_major": 2,
       "version_minor": 0
      },
      "text/plain": [
       "VBox()"
      ]
     },
     "metadata": {},
     "output_type": "display_data"
    },
    {
     "data": {
      "application/vnd.jupyter.widget-view+json": {
       "model_id": "",
       "version_major": 2,
       "version_minor": 0
      },
      "text/plain": [
       "FloatProgress(value=0.0, bar_style='info', description='Progress:', layout=Layout(height='25px', width='50%'),…"
      ]
     },
     "metadata": {},
     "output_type": "display_data"
    }
   ],
   "source": [
    "combined_df = demographics_df.join(aggregated_transactions, \"CustomerID\", \"left\") \\\n",
    ".join(aggregated_engagement, \"CustomerID\", \"left\") \\\n",
    ".join(aggregated_behavioral, \"CustomerID\", \"left\")"
   ]
  },
  {
   "cell_type": "markdown",
   "id": "841ad642-82cf-4b5e-97b9-7673be1cf4da",
   "metadata": {
    "execution": {
     "iopub.execute_input": "2024-10-30T08:12:41.900010Z",
     "iopub.status.busy": "2024-10-30T08:12:41.899744Z",
     "iopub.status.idle": "2024-10-30T08:12:41.946417Z",
     "shell.execute_reply": "2024-10-30T08:12:41.945695Z",
     "shell.execute_reply.started": "2024-10-30T08:12:41.899978Z"
    }
   },
   "source": [
    "Handle missing values"
   ]
  },
  {
   "cell_type": "code",
   "execution_count": 10,
   "id": "de0854af-1929-44f0-8037-1da871dee8f3",
   "metadata": {
    "execution": {
     "iopub.execute_input": "2024-10-30T19:13:20.836143Z",
     "iopub.status.busy": "2024-10-30T19:13:20.835947Z",
     "iopub.status.idle": "2024-10-30T19:13:21.088828Z",
     "shell.execute_reply": "2024-10-30T19:13:21.088037Z",
     "shell.execute_reply.started": "2024-10-30T19:13:20.836115Z"
    }
   },
   "outputs": [
    {
     "data": {
      "application/vnd.jupyter.widget-view+json": {
       "model_id": "d6cbdbc018cb44f2b6a413e72dad9ef1",
       "version_major": 2,
       "version_minor": 0
      },
      "text/plain": [
       "VBox()"
      ]
     },
     "metadata": {},
     "output_type": "display_data"
    },
    {
     "data": {
      "application/vnd.jupyter.widget-view+json": {
       "model_id": "",
       "version_major": 2,
       "version_minor": 0
      },
      "text/plain": [
       "FloatProgress(value=0.0, bar_style='info', description='Progress:', layout=Layout(height='25px', width='50%'),…"
      ]
     },
     "metadata": {},
     "output_type": "display_data"
    }
   ],
   "source": [
    "combined_df = combined_df.fillna({\"LoyaltyStatus\": \"Basic\"})"
   ]
  },
  {
   "cell_type": "code",
   "execution_count": 11,
   "id": "075e80f7-2194-40c3-b2ea-6ba0536dfa88",
   "metadata": {
    "execution": {
     "iopub.execute_input": "2024-10-30T19:13:21.090147Z",
     "iopub.status.busy": "2024-10-30T19:13:21.089941Z",
     "iopub.status.idle": "2024-10-30T19:13:26.385246Z",
     "shell.execute_reply": "2024-10-30T19:13:26.384522Z",
     "shell.execute_reply.started": "2024-10-30T19:13:21.090118Z"
    }
   },
   "outputs": [
    {
     "data": {
      "application/vnd.jupyter.widget-view+json": {
       "model_id": "8e97f05a1d6844a08fbfdec48556637e",
       "version_major": 2,
       "version_minor": 0
      },
      "text/plain": [
       "VBox()"
      ]
     },
     "metadata": {},
     "output_type": "display_data"
    },
    {
     "data": {
      "application/vnd.jupyter.widget-view+json": {
       "model_id": "",
       "version_major": 2,
       "version_minor": 0
      },
      "text/plain": [
       "FloatProgress(value=0.0, bar_style='info', description='Progress:', layout=Layout(height='25px', width='50%'),…"
      ]
     },
     "metadata": {},
     "output_type": "display_data"
    },
    {
     "name": "stdout",
     "output_type": "stream",
     "text": [
      "+--------------------+---+------+--------+-----------+--------+--------------+-------------+------------------+------------------+---------------------+------------------+-------------------+------------+------------------------+------------------+--------------------+--------------+\n",
      "|          CustomerID|Age|Gender|Location|  Education|  Income|MarriageStatus|LoyaltyStatus|total_transactions|       total_spent|avg_transaction_value|last_purchase_date|total_emails_opened|total_clicks|total_points_accumulated|total_pages_viewed|avg_session_duration|total_sessions|\n",
      "+--------------------+---+------+--------+-----------+--------+--------------+-------------+------------------+------------------+---------------------+------------------+-------------------+------------+------------------------+------------------+--------------------+--------------+\n",
      "|f788f889-763c-4be...| 33|  Male| Chicago|   Bachelor| 28431.5|        Single|        Basic|                20| 2577.580416607786|    128.8790208303893|        2024-10-13|                104|          25|                     719|               146|   7.975789473684212|            19|\n",
      "|6e19ed05-6180-460...| 70|  Male| Chicago|High School|31420.64|        Single|       Silver|                25|25997.724137917827|   1039.9089655167131|        2024-10-06|                879|         560|                   25996|              1775|   94.76736842105261|            19|\n",
      "|66c01c6b-322e-47b...| 25|  Male| Chicago|      Other|47195.57|       Married|       Bronze|                29|14620.815591158449|   504.16605486753275|        2024-10-17|                349|         163|                    7163|               348|  21.296923076923072|            13|\n",
      "|4fdb8961-447c-433...| 38|  Male| Phoenix|   Bachelor|51526.43|        Single|       Bronze|                27|13090.086709314559|   484.81802627090957|        2024-10-23|                309|         109|                    7150|               171|  23.744545454545456|            11|\n",
      "|353d0bed-2332-4a9...| 33|Female| Chicago|High School|57504.97|       Married|       Bronze|                38|26822.723905302242|    705.8611554026905|        2024-10-24|                698|         351|                   14726|              1129|  40.546956521739126|            23|\n",
      "+--------------------+---+------+--------+-----------+--------+--------------+-------------+------------------+------------------+---------------------+------------------+-------------------+------------+------------------------+------------------+--------------------+--------------+\n",
      "only showing top 5 rows\n",
      "\n",
      "root\n",
      " |-- CustomerID: string (nullable = true)\n",
      " |-- Age: long (nullable = true)\n",
      " |-- Gender: string (nullable = true)\n",
      " |-- Location: string (nullable = true)\n",
      " |-- Education: string (nullable = true)\n",
      " |-- Income: double (nullable = true)\n",
      " |-- MarriageStatus: string (nullable = true)\n",
      " |-- LoyaltyStatus: string (nullable = false)\n",
      " |-- total_transactions: long (nullable = true)\n",
      " |-- total_spent: double (nullable = true)\n",
      " |-- avg_transaction_value: double (nullable = true)\n",
      " |-- last_purchase_date: date (nullable = true)\n",
      " |-- total_emails_opened: long (nullable = true)\n",
      " |-- total_clicks: long (nullable = true)\n",
      " |-- total_points_accumulated: long (nullable = true)\n",
      " |-- total_pages_viewed: long (nullable = true)\n",
      " |-- avg_session_duration: double (nullable = true)\n",
      " |-- total_sessions: long (nullable = true)"
     ]
    }
   ],
   "source": [
    "# Display the combined DataFrame\n",
    "combined_df.show(5)\n",
    "combined_df.printSchema()"
   ]
  },
  {
   "cell_type": "markdown",
   "id": "a7f74e4f-2bde-44cb-af9f-0b38990a75da",
   "metadata": {},
   "source": [
    "### 2. EDA Analysis"
   ]
  },
  {
   "cell_type": "markdown",
   "id": "727618b7-1e74-4942-84ab-4cdca0601b5b",
   "metadata": {},
   "source": [
    "#### 2.1 Age Distribution"
   ]
  },
  {
   "cell_type": "code",
   "execution_count": 12,
   "id": "803bbc34-99d3-44f8-ba18-10029b30b6e1",
   "metadata": {
    "execution": {
     "iopub.execute_input": "2024-10-30T19:13:26.386566Z",
     "iopub.status.busy": "2024-10-30T19:13:26.386350Z",
     "iopub.status.idle": "2024-10-30T19:13:29.672963Z",
     "shell.execute_reply": "2024-10-30T19:13:29.672160Z",
     "shell.execute_reply.started": "2024-10-30T19:13:26.386535Z"
    }
   },
   "outputs": [
    {
     "data": {
      "application/vnd.jupyter.widget-view+json": {
       "model_id": "ba0909b886aa45dfaeeae1e43313d5bb",
       "version_major": 2,
       "version_minor": 0
      },
      "text/plain": [
       "VBox()"
      ]
     },
     "metadata": {},
     "output_type": "display_data"
    },
    {
     "data": {
      "application/vnd.jupyter.widget-view+json": {
       "model_id": "",
       "version_major": 2,
       "version_minor": 0
      },
      "text/plain": [
       "FloatProgress(value=0.0, bar_style='info', description='Progress:', layout=Layout(height='25px', width='50%'),…"
      ]
     },
     "metadata": {},
     "output_type": "display_data"
    },
    {
     "data": {
      "image/png": "[encoded data removed]",
      "text/plain": [
       "<IPython.core.display.Image object>"
      ]
     },
     "metadata": {},
     "output_type": "display_data"
    }
   ],
   "source": [
    "from pyspark.sql.functions import col\n",
    "import matplotlib.pyplot as plt\n",
    "import seaborn as sns\n",
    "\n",
    "# Select the relevant columns for EDA\n",
    "eda_df = combined_df.select(\"Age\", \"Income\")\n",
    "\n",
    "# Convert to Pandas DataFrame for visualization\n",
    "eda_pd = eda_df.toPandas()\n",
    "\n",
    "# Distribution of Age\n",
    "plt.figure(figsize=(8, 6))\n",
    "sns.histplot(eda_pd['Age'], bins=20, kde=True, color='salmon')\n",
    "plt.title('Age Distribution')\n",
    "plt.xlabel('Age')\n",
    "plt.ylabel('Frequency')\n",
    "%matplot plt\n"
   ]
  },
  {
   "cell_type": "markdown",
   "id": "99539cf0-863c-4917-ab32-0a10d43199f8",
   "metadata": {
    "execution": {
     "iopub.execute_input": "2024-10-30T13:50:22.831223Z",
     "iopub.status.busy": "2024-10-30T13:50:22.830980Z",
     "iopub.status.idle": "2024-10-30T13:50:22.873601Z",
     "shell.execute_reply": "2024-10-30T13:50:22.872982Z",
     "shell.execute_reply.started": "2024-10-30T13:50:22.831194Z"
    }
   },
   "source": [
    "#### 2.2 Income Distribution"
   ]
  },
  {
   "cell_type": "code",
   "execution_count": 13,
   "id": "d10ae8fb-50f1-4aa0-844e-59a5819e21bc",
   "metadata": {
    "execution": {
     "iopub.execute_input": "2024-10-30T19:13:29.674647Z",
     "iopub.status.busy": "2024-10-30T19:13:29.674376Z",
     "iopub.status.idle": "2024-10-30T19:13:30.444060Z",
     "shell.execute_reply": "2024-10-30T19:13:30.443385Z",
     "shell.execute_reply.started": "2024-10-30T19:13:29.674606Z"
    }
   },
   "outputs": [
    {
     "data": {
      "application/vnd.jupyter.widget-view+json": {
       "model_id": "f67907c66b5d40ffb0084e7ac8d62e64",
       "version_major": 2,
       "version_minor": 0
      },
      "text/plain": [
       "VBox()"
      ]
     },
     "metadata": {},
     "output_type": "display_data"
    },
    {
     "data": {
      "application/vnd.jupyter.widget-view+json": {
       "model_id": "",
       "version_major": 2,
       "version_minor": 0
      },
      "text/plain": [
       "FloatProgress(value=0.0, bar_style='info', description='Progress:', layout=Layout(height='25px', width='50%'),…"
      ]
     },
     "metadata": {},
     "output_type": "display_data"
    },
    {
     "data": {
      "image/png": "[encoded data removed]",
      "text/plain": [
       "<IPython.core.display.Image object>"
      ]
     },
     "metadata": {},
     "output_type": "display_data"
    }
   ],
   "source": [
    "# Distribution of Income\n",
    "plt.figure(figsize=(8, 6))\n",
    "sns.histplot(eda_pd['Income'], bins=30, kde=True, color='salmon')\n",
    "plt.title('Income Distribution')\n",
    "plt.xlabel('Income')\n",
    "plt.ylabel('Frequency')\n",
    "%matplot plt"
   ]
  },
  {
   "cell_type": "markdown",
   "id": "fb6fa5fa-bf96-4d13-b157-3ea2798f7e23",
   "metadata": {},
   "source": [
    "#### 2.3 Loyalty Status Distribution"
   ]
  },
  {
   "cell_type": "code",
   "execution_count": 14,
   "id": "ccb0820a-279b-4d6b-83b5-99b7dc520f5a",
   "metadata": {
    "execution": {
     "iopub.execute_input": "2024-10-30T19:13:30.445305Z",
     "iopub.status.busy": "2024-10-30T19:13:30.445109Z",
     "iopub.status.idle": "2024-10-30T19:13:35.741468Z",
     "shell.execute_reply": "2024-10-30T19:13:35.740780Z",
     "shell.execute_reply.started": "2024-10-30T19:13:30.445277Z"
    }
   },
   "outputs": [
    {
     "data": {
      "application/vnd.jupyter.widget-view+json": {
       "model_id": "0ffadbaf1a9f47c6a373e1d72ee5373f",
       "version_major": 2,
       "version_minor": 0
      },
      "text/plain": [
       "VBox()"
      ]
     },
     "metadata": {},
     "output_type": "display_data"
    },
    {
     "data": {
      "application/vnd.jupyter.widget-view+json": {
       "model_id": "",
       "version_major": 2,
       "version_minor": 0
      },
      "text/plain": [
       "FloatProgress(value=0.0, bar_style='info', description='Progress:', layout=Layout(height='25px', width='50%'),…"
      ]
     },
     "metadata": {},
     "output_type": "display_data"
    },
    {
     "data": {
      "image/png": "[encoded data removed]",
      "text/plain": [
       "<IPython.core.display.Image object>"
      ]
     },
     "metadata": {},
     "output_type": "display_data"
    }
   ],
   "source": [
    "# Convert to Pandas DataFrame for visualization\n",
    "combined_pd = combined_df.toPandas()\n",
    "\n",
    "# Bar plot for Gender distribution\n",
    "plt.figure(figsize=(8, 6))\n",
    "sns.countplot(data=combined_pd, x='LoyaltyStatus', palette='pastel')\n",
    "plt.title('Loyalty Status Distribution')\n",
    "plt.xlabel('Loyalty')\n",
    "plt.ylabel('Count')\n",
    "%matplot plt"
   ]
  },
  {
   "cell_type": "markdown",
   "id": "bf3bb382-b974-4414-a294-677626445c19",
   "metadata": {},
   "source": [
    "### 3. Feature Enginerring"
   ]
  },
  {
   "cell_type": "markdown",
   "id": "97a016d3-d8ed-4d02-9be4-6217efff55fd",
   "metadata": {},
   "source": [
    "#### 3.1 Categorical Encoding"
   ]
  },
  {
   "cell_type": "code",
   "execution_count": 15,
   "id": "3bc1692a-dd91-4547-93da-c8cdf434f8f0",
   "metadata": {
    "execution": {
     "iopub.execute_input": "2024-10-30T19:13:35.742858Z",
     "iopub.status.busy": "2024-10-30T19:13:35.742650Z",
     "iopub.status.idle": "2024-10-30T19:13:36.514858Z",
     "shell.execute_reply": "2024-10-30T19:13:36.514037Z",
     "shell.execute_reply.started": "2024-10-30T19:13:35.742823Z"
    }
   },
   "outputs": [
    {
     "data": {
      "application/vnd.jupyter.widget-view+json": {
       "model_id": "5ed72f2816c042dcaecc68b50fa01687",
       "version_major": 2,
       "version_minor": 0
      },
      "text/plain": [
       "VBox()"
      ]
     },
     "metadata": {},
     "output_type": "display_data"
    },
    {
     "data": {
      "application/vnd.jupyter.widget-view+json": {
       "model_id": "",
       "version_major": 2,
       "version_minor": 0
      },
      "text/plain": [
       "FloatProgress(value=0.0, bar_style='info', description='Progress:', layout=Layout(height='25px', width='50%'),…"
      ]
     },
     "metadata": {},
     "output_type": "display_data"
    }
   ],
   "source": [
    "from pyspark.sql.functions import udf\n",
    "from pyspark.sql.types import IntegerType\n",
    "from pyspark.ml.feature import StringIndexer, OneHotEncoder, VectorAssembler, StandardScaler\n",
    "from pyspark.ml import Pipeline"
   ]
  },
  {
   "cell_type": "markdown",
   "id": "65202bc6-1f84-425c-ae40-94440bbd52dc",
   "metadata": {},
   "source": [
    "Ordinal Encoding"
   ]
  },
  {
   "cell_type": "code",
   "execution_count": 16,
   "id": "ce3eee78-64ea-4ee5-b340-c0ec59f1fe67",
   "metadata": {
    "execution": {
     "iopub.execute_input": "2024-10-30T19:13:36.516142Z",
     "iopub.status.busy": "2024-10-30T19:13:36.515942Z",
     "iopub.status.idle": "2024-10-30T19:13:36.774239Z",
     "shell.execute_reply": "2024-10-30T19:13:36.773546Z",
     "shell.execute_reply.started": "2024-10-30T19:13:36.516113Z"
    }
   },
   "outputs": [
    {
     "data": {
      "application/vnd.jupyter.widget-view+json": {
       "model_id": "d1c44bc3021e4fea9174aaaf04eb1568",
       "version_major": 2,
       "version_minor": 0
      },
      "text/plain": [
       "VBox()"
      ]
     },
     "metadata": {},
     "output_type": "display_data"
    },
    {
     "data": {
      "application/vnd.jupyter.widget-view+json": {
       "model_id": "",
       "version_major": 2,
       "version_minor": 0
      },
      "text/plain": [
       "FloatProgress(value=0.0, bar_style='info', description='Progress:', layout=Layout(height='25px', width='50%'),…"
      ]
     },
     "metadata": {},
     "output_type": "display_data"
    }
   ],
   "source": [
    "# Define ordinal mappings for 'LoyaltyStatus' and 'Education'\n",
    "loyalty_mapping = {'Basic': 0, 'Bronze': 1, 'Silver': 2, 'Gold': 3}\n",
    "education_mapping = {'Other': 0, 'High School': 1, 'Bachelor': 2, 'Master': 3, 'PhD': 4}\n",
    "loyalty_udf = udf(lambda x: loyalty_mapping.get(x, 0), IntegerType())\n",
    "education_udf = udf(lambda x: education_mapping.get(x, 0), IntegerType())\n",
    "\n",
    "\n",
    "# Apply ordinal encoding\n",
    "scaled_df = combined_df.withColumn(\n",
    "\"LoyaltyProgramStatus_encoded\", loyalty_udf(col(\"LoyaltyStatus\"))\n",
    ").withColumn(\n",
    "\"Education_encoded\", education_udf(col(\"Education\"))\n",
    ")\n",
    "\n",
    "# Drop original ordinal columns\n",
    "scaled_df = scaled_df.drop(\"LoyaltyStatus\", \"Education\")\n"
   ]
  },
  {
   "cell_type": "markdown",
   "id": "d484cc08-eac5-41c5-be1e-0c06b8bbb0cf",
   "metadata": {},
   "source": [
    "One-Hot Encoding"
   ]
  },
  {
   "cell_type": "code",
   "execution_count": 17,
   "id": "5315cd10-7040-4a40-9934-0fdcef3f241e",
   "metadata": {
    "execution": {
     "iopub.execute_input": "2024-10-30T19:13:36.775773Z",
     "iopub.status.busy": "2024-10-30T19:13:36.775371Z",
     "iopub.status.idle": "2024-10-30T19:13:42.085791Z",
     "shell.execute_reply": "2024-10-30T19:13:42.085029Z",
     "shell.execute_reply.started": "2024-10-30T19:13:36.775739Z"
    },
    "tags": []
   },
   "outputs": [
    {
     "data": {
      "application/vnd.jupyter.widget-view+json": {
       "model_id": "4a248a8e81684f578334393df6b0ba06",
       "version_major": 2,
       "version_minor": 0
      },
      "text/plain": [
       "VBox()"
      ]
     },
     "metadata": {},
     "output_type": "display_data"
    },
    {
     "data": {
      "application/vnd.jupyter.widget-view+json": {
       "model_id": "",
       "version_major": 2,
       "version_minor": 0
      },
      "text/plain": [
       "FloatProgress(value=0.0, bar_style='info', description='Progress:', layout=Layout(height='25px', width='50%'),…"
      ]
     },
     "metadata": {},
     "output_type": "display_data"
    }
   ],
   "source": [
    "# Define categorical columns for One-Hot Encoding\n",
    "categorical_cols = ['Gender', 'MarriageStatus', 'Location']\n",
    "\n",
    "# Initialize StringIndexer for each categorical column\n",
    "indexers = [\n",
    "    StringIndexer(inputCol=column, outputCol=column + \"Index\", handleInvalid=\"keep\")\n",
    "    for column in categorical_cols\n",
    "]\n",
    "\n",
    "\n",
    "# Initialize OneHotEncoder for each indexed categorical column\n",
    "encoders = [\n",
    "    OneHotEncoder(inputCols=[column + \"Index\"], outputCols=[column + \"_OHE\"])\n",
    "    for column in categorical_cols\n",
    "]\n",
    "\n",
    "\n",
    "# Create a Pipeline for indexing and encoding\n",
    "pipeline = Pipeline(stages=indexers + encoders)\n",
    "pipeline_model = pipeline.fit(scaled_df)\n",
    "scaled_df = pipeline_model.transform(scaled_df)\n",
    "\n",
    "# Drop the original categorical columns\n",
    "scaled_df = scaled_df.drop(*categorical_cols)"
   ]
  },
  {
   "cell_type": "markdown",
   "id": "8bb38281-5d1e-4594-ae41-602863427747",
   "metadata": {},
   "source": [
    "#### 3.2 Feature Enginerring"
   ]
  },
  {
   "cell_type": "markdown",
   "id": "1ff8b180-d40b-4e7e-a915-bc426a3c4f95",
   "metadata": {
    "execution": {
     "iopub.execute_input": "2024-10-30T08:25:37.276446Z",
     "iopub.status.busy": "2024-10-30T08:25:37.276199Z",
     "iopub.status.idle": "2024-10-30T08:25:37.323208Z",
     "shell.execute_reply": "2024-10-30T08:25:37.322580Z",
     "shell.execute_reply.started": "2024-10-30T08:25:37.276415Z"
    }
   },
   "source": [
    "Recency"
   ]
  },
  {
   "cell_type": "code",
   "execution_count": 18,
   "id": "8c31357c-3140-40be-ac81-d88352aa5616",
   "metadata": {
    "execution": {
     "iopub.execute_input": "2024-10-30T19:13:42.087404Z",
     "iopub.status.busy": "2024-10-30T19:13:42.087140Z",
     "iopub.status.idle": "2024-10-30T19:13:42.346622Z",
     "shell.execute_reply": "2024-10-30T19:13:42.345684Z",
     "shell.execute_reply.started": "2024-10-30T19:13:42.087364Z"
    }
   },
   "outputs": [
    {
     "data": {
      "application/vnd.jupyter.widget-view+json": {
       "model_id": "1ea1238d51d4435f8d95583e254fb4a4",
       "version_major": 2,
       "version_minor": 0
      },
      "text/plain": [
       "VBox()"
      ]
     },
     "metadata": {},
     "output_type": "display_data"
    },
    {
     "data": {
      "application/vnd.jupyter.widget-view+json": {
       "model_id": "",
       "version_major": 2,
       "version_minor": 0
      },
      "text/plain": [
       "FloatProgress(value=0.0, bar_style='info', description='Progress:', layout=Layout(height='25px', width='50%'),…"
      ]
     },
     "metadata": {},
     "output_type": "display_data"
    }
   ],
   "source": [
    "# Calculate recency\n",
    "scaled_df = scaled_df.withColumn(\n",
    "\"recency\", datediff(current_date(), col(\"last_purchase_date\"))\n",
    ")\n",
    "\n",
    "# Drop Last Purchase Date\n",
    "scaled_df = scaled_df.drop(\"last_purchase_date\")"
   ]
  },
  {
   "cell_type": "markdown",
   "id": "bc70a8e8-ea04-4891-8f0b-b67a8f51ceac",
   "metadata": {
    "execution": {
     "iopub.execute_input": "2024-10-30T08:26:06.435848Z",
     "iopub.status.busy": "2024-10-30T08:26:06.435597Z",
     "iopub.status.idle": "2024-10-30T08:26:06.483573Z",
     "shell.execute_reply": "2024-10-30T08:26:06.482836Z",
     "shell.execute_reply.started": "2024-10-30T08:26:06.435819Z"
    }
   },
   "source": [
    "Engagement Score"
   ]
  },
  {
   "cell_type": "code",
   "execution_count": 19,
   "id": "660fb76d-41aa-4b51-a67d-5dc4993c70a2",
   "metadata": {
    "execution": {
     "iopub.execute_input": "2024-10-30T19:13:42.348336Z",
     "iopub.status.busy": "2024-10-30T19:13:42.348072Z",
     "iopub.status.idle": "2024-10-30T19:13:42.603203Z",
     "shell.execute_reply": "2024-10-30T19:13:42.602486Z",
     "shell.execute_reply.started": "2024-10-30T19:13:42.348295Z"
    },
    "tags": []
   },
   "outputs": [
    {
     "data": {
      "application/vnd.jupyter.widget-view+json": {
       "model_id": "df91472362334d148962c12f759b4408",
       "version_major": 2,
       "version_minor": 0
      },
      "text/plain": [
       "VBox()"
      ]
     },
     "metadata": {},
     "output_type": "display_data"
    },
    {
     "data": {
      "application/vnd.jupyter.widget-view+json": {
       "model_id": "",
       "version_major": 2,
       "version_minor": 0
      },
      "text/plain": [
       "FloatProgress(value=0.0, bar_style='info', description='Progress:', layout=Layout(height='25px', width='50%'),…"
      ]
     },
     "metadata": {},
     "output_type": "display_data"
    }
   ],
   "source": [
    "# Create engagement score\n",
    "scaled_df = scaled_df.withColumn(\n",
    "\"engagement_score\",\n",
    "col(\"total_emails_opened\") * 0.5 + col(\"total_clicks\") * 0.5 )"
   ]
  },
  {
   "cell_type": "markdown",
   "id": "ee2863fa-9771-4066-9730-9b8665c890f4",
   "metadata": {},
   "source": [
    "Behavioral Score"
   ]
  },
  {
   "cell_type": "code",
   "execution_count": 20,
   "id": "b4e68141-82a1-47b4-b701-47b00ff4fa79",
   "metadata": {
    "execution": {
     "iopub.execute_input": "2024-10-30T19:13:42.604502Z",
     "iopub.status.busy": "2024-10-30T19:13:42.604301Z",
     "iopub.status.idle": "2024-10-30T19:13:42.865109Z",
     "shell.execute_reply": "2024-10-30T19:13:42.864393Z",
     "shell.execute_reply.started": "2024-10-30T19:13:42.604473Z"
    },
    "tags": []
   },
   "outputs": [
    {
     "data": {
      "application/vnd.jupyter.widget-view+json": {
       "model_id": "f50c6e79f9d4468e892f78c1860ed542",
       "version_major": 2,
       "version_minor": 0
      },
      "text/plain": [
       "VBox()"
      ]
     },
     "metadata": {},
     "output_type": "display_data"
    },
    {
     "data": {
      "application/vnd.jupyter.widget-view+json": {
       "model_id": "",
       "version_major": 2,
       "version_minor": 0
      },
      "text/plain": [
       "FloatProgress(value=0.0, bar_style='info', description='Progress:', layout=Layout(height='25px', width='50%'),…"
      ]
     },
     "metadata": {},
     "output_type": "display_data"
    }
   ],
   "source": [
    "# Create behavioral score\n",
    "scaled_df = scaled_df.withColumn(\n",
    "\"behavioral_score\",\n",
    "col(\"total_pages_viewed\") * 0.4 + col(\"avg_session_duration\") * 0.3 + col(\"total_sessions\") * 0.3\n",
    ")"
   ]
  },
  {
   "cell_type": "markdown",
   "id": "1d8504de-bc34-41d2-914c-b1041403c424",
   "metadata": {},
   "source": [
    "Spend - Engagement Interaction"
   ]
  },
  {
   "cell_type": "code",
   "execution_count": 21,
   "id": "b74ece4e-27a0-41c8-ac9b-3b3b2607f3b3",
   "metadata": {
    "execution": {
     "iopub.execute_input": "2024-10-30T19:13:42.866419Z",
     "iopub.status.busy": "2024-10-30T19:13:42.866201Z",
     "iopub.status.idle": "2024-10-30T19:13:43.121963Z",
     "shell.execute_reply": "2024-10-30T19:13:43.121226Z",
     "shell.execute_reply.started": "2024-10-30T19:13:42.866390Z"
    }
   },
   "outputs": [
    {
     "data": {
      "application/vnd.jupyter.widget-view+json": {
       "model_id": "1d6e6f837720471c9702a0c722fee333",
       "version_major": 2,
       "version_minor": 0
      },
      "text/plain": [
       "VBox()"
      ]
     },
     "metadata": {},
     "output_type": "display_data"
    },
    {
     "data": {
      "application/vnd.jupyter.widget-view+json": {
       "model_id": "",
       "version_major": 2,
       "version_minor": 0
      },
      "text/plain": [
       "FloatProgress(value=0.0, bar_style='info', description='Progress:', layout=Layout(height='25px', width='50%'),…"
      ]
     },
     "metadata": {},
     "output_type": "display_data"
    }
   ],
   "source": [
    "# Create interaction feature between 'scaled_total_spent' and 'scaled_engagement_score'\n",
    "scaled_df = scaled_df.withColumn(\n",
    "\"spend_engagement_interaction\",\n",
    "col(\"total_spent\") * col(\"engagement_score\")\n",
    ")"
   ]
  },
  {
   "cell_type": "markdown",
   "id": "4b36fd20-e6e2-4ef7-a599-86b0ac111da0",
   "metadata": {
    "tags": []
   },
   "source": [
    "Lifetime Vlaue - LTV"
   ]
  },
  {
   "cell_type": "code",
   "execution_count": 22,
   "id": "27166754-bd16-43e3-9359-323f4d09a587",
   "metadata": {
    "execution": {
     "iopub.execute_input": "2024-10-30T19:13:43.123278Z",
     "iopub.status.busy": "2024-10-30T19:13:43.123074Z",
     "iopub.status.idle": "2024-10-30T19:13:43.385055Z",
     "shell.execute_reply": "2024-10-30T19:13:43.384232Z",
     "shell.execute_reply.started": "2024-10-30T19:13:43.123249Z"
    }
   },
   "outputs": [
    {
     "data": {
      "application/vnd.jupyter.widget-view+json": {
       "model_id": "1dfe7132b32f41639cf926cca731e19b",
       "version_major": 2,
       "version_minor": 0
      },
      "text/plain": [
       "VBox()"
      ]
     },
     "metadata": {},
     "output_type": "display_data"
    },
    {
     "data": {
      "application/vnd.jupyter.widget-view+json": {
       "model_id": "",
       "version_major": 2,
       "version_minor": 0
      },
      "text/plain": [
       "FloatProgress(value=0.0, bar_style='info', description='Progress:', layout=Layout(height='25px', width='50%'),…"
      ]
     },
     "metadata": {},
     "output_type": "display_data"
    }
   ],
   "source": [
    "scaled_df = scaled_df.withColumn(\n",
    "\"LTV\",\n",
    "col(\"avg_transaction_value\") * col(\"total_transactions\")\n",
    ")"
   ]
  },
  {
   "cell_type": "code",
   "execution_count": 23,
   "id": "072a9838-2560-4643-90e1-01f931479500",
   "metadata": {
    "execution": {
     "iopub.execute_input": "2024-10-30T19:13:43.391567Z",
     "iopub.status.busy": "2024-10-30T19:13:43.391360Z",
     "iopub.status.idle": "2024-10-30T19:13:43.452455Z",
     "shell.execute_reply": "2024-10-30T19:13:43.448971Z",
     "shell.execute_reply.started": "2024-10-30T19:13:43.391536Z"
    }
   },
   "outputs": [
    {
     "data": {
      "application/vnd.jupyter.widget-view+json": {
       "model_id": "863e49d587484789a67630b791e91ddf",
       "version_major": 2,
       "version_minor": 0
      },
      "text/plain": [
       "VBox()"
      ]
     },
     "metadata": {},
     "output_type": "display_data"
    },
    {
     "data": {
      "application/vnd.jupyter.widget-view+json": {
       "model_id": "",
       "version_major": 2,
       "version_minor": 0
      },
      "text/plain": [
       "FloatProgress(value=0.0, bar_style='info', description='Progress:', layout=Layout(height='25px', width='50%'),…"
      ]
     },
     "metadata": {},
     "output_type": "display_data"
    },
    {
     "name": "stdout",
     "output_type": "stream",
     "text": [
      "root\n",
      " |-- CustomerID: string (nullable = true)\n",
      " |-- Age: long (nullable = true)\n",
      " |-- Income: double (nullable = true)\n",
      " |-- total_transactions: long (nullable = true)\n",
      " |-- total_spent: double (nullable = true)\n",
      " |-- avg_transaction_value: double (nullable = true)\n",
      " |-- total_emails_opened: long (nullable = true)\n",
      " |-- total_clicks: long (nullable = true)\n",
      " |-- total_points_accumulated: long (nullable = true)\n",
      " |-- total_pages_viewed: long (nullable = true)\n",
      " |-- avg_session_duration: double (nullable = true)\n",
      " |-- total_sessions: long (nullable = true)\n",
      " |-- LoyaltyProgramStatus_encoded: integer (nullable = true)\n",
      " |-- Education_encoded: integer (nullable = true)\n",
      " |-- GenderIndex: double (nullable = false)\n",
      " |-- MarriageStatusIndex: double (nullable = false)\n",
      " |-- LocationIndex: double (nullable = false)\n",
      " |-- Gender_OHE: vector (nullable = true)\n",
      " |-- MarriageStatus_OHE: vector (nullable = true)\n",
      " |-- Location_OHE: vector (nullable = true)\n",
      " |-- recency: integer (nullable = true)\n",
      " |-- engagement_score: double (nullable = true)\n",
      " |-- behavioral_score: double (nullable = true)\n",
      " |-- spend_engagement_interaction: double (nullable = true)\n",
      " |-- LTV: double (nullable = true)"
     ]
    }
   ],
   "source": [
    "scaled_df.printSchema()"
   ]
  },
  {
   "cell_type": "markdown",
   "id": "5d4a7d27-bb5a-4375-b06c-f6e953362d6a",
   "metadata": {},
   "source": [
    "### 3.3 Feature Scaling"
   ]
  },
  {
   "cell_type": "code",
   "execution_count": 24,
   "id": "9287fcdc-b5ba-4dff-a4bf-a7454894c5ce",
   "metadata": {
    "execution": {
     "iopub.execute_input": "2024-10-30T19:13:43.455459Z",
     "iopub.status.busy": "2024-10-30T19:13:43.454923Z",
     "iopub.status.idle": "2024-10-30T19:13:43.490462Z",
     "shell.execute_reply": "2024-10-30T19:13:43.489708Z",
     "shell.execute_reply.started": "2024-10-30T19:13:43.455415Z"
    },
    "tags": []
   },
   "outputs": [
    {
     "data": {
      "application/vnd.jupyter.widget-view+json": {
       "model_id": "8ca2c40ce30842a297b935467bd378f0",
       "version_major": 2,
       "version_minor": 0
      },
      "text/plain": [
       "VBox()"
      ]
     },
     "metadata": {},
     "output_type": "display_data"
    },
    {
     "data": {
      "application/vnd.jupyter.widget-view+json": {
       "model_id": "",
       "version_major": 2,
       "version_minor": 0
      },
      "text/plain": [
       "FloatProgress(value=0.0, bar_style='info', description='Progress:', layout=Layout(height='25px', width='50%'),…"
      ]
     },
     "metadata": {},
     "output_type": "display_data"
    },
    {
     "name": "stdout",
     "output_type": "stream",
     "text": [
      "['Age', 'Income', 'total_transactions', 'total_spent', 'avg_transaction_value', 'total_emails_opened', 'total_clicks', 'total_points_accumulated', 'total_pages_viewed', 'avg_session_duration', 'total_sessions', 'LoyaltyProgramStatus_encoded', 'Education_encoded', 'GenderIndex', 'MarriageStatusIndex', 'LocationIndex', 'recency', 'engagement_score', 'behavioral_score', 'spend_engagement_interaction', 'LTV']"
     ]
    }
   ],
   "source": [
    "# Get all numeric columns\n",
    "numeric_cols = [col_name for col_name, dtype in scaled_df.dtypes if dtype in ('int', 'bigint', 'double', 'float', 'long', 'short')]\n",
    "numeric_cols "
   ]
  },
  {
   "cell_type": "code",
   "execution_count": 25,
   "id": "f89e5ba2-aee5-4a62-ab74-6d2fad37c06e",
   "metadata": {
    "execution": {
     "iopub.execute_input": "2024-10-30T19:13:43.492261Z",
     "iopub.status.busy": "2024-10-30T19:13:43.491813Z",
     "iopub.status.idle": "2024-10-30T19:13:50.822943Z",
     "shell.execute_reply": "2024-10-30T19:13:50.822122Z",
     "shell.execute_reply.started": "2024-10-30T19:13:43.492218Z"
    },
    "tags": []
   },
   "outputs": [
    {
     "data": {
      "application/vnd.jupyter.widget-view+json": {
       "model_id": "fa635811a0394918a945274f169a5274",
       "version_major": 2,
       "version_minor": 0
      },
      "text/plain": [
       "VBox()"
      ]
     },
     "metadata": {},
     "output_type": "display_data"
    },
    {
     "data": {
      "application/vnd.jupyter.widget-view+json": {
       "model_id": "",
       "version_major": 2,
       "version_minor": 0
      },
      "text/plain": [
       "FloatProgress(value=0.0, bar_style='info', description='Progress:', layout=Layout(height='25px', width='50%'),…"
      ]
     },
     "metadata": {},
     "output_type": "display_data"
    }
   ],
   "source": [
    "# Assemble numeric features into a single vector\n",
    "assembler = VectorAssembler(\n",
    "inputCols=numeric_cols,\n",
    "outputCol=\"numeric_features\"\n",
    ")\n",
    "\n",
    "# Initialize the StandardScaler\n",
    "scaler = StandardScaler(\n",
    "inputCol=\"numeric_features\",\n",
    "outputCol=\"scaled_features\",\n",
    "withStd=True,\n",
    "withMean=True\n",
    ")\n",
    "\n",
    "# Create a Pipeline for assembling and scaling\n",
    "scaling_pipeline = Pipeline(stages=[assembler, scaler])\n",
    "scaling_model = scaling_pipeline.fit(scaled_df)\n",
    "scaled_df = scaling_model.transform(scaled_df)"
   ]
  },
  {
   "cell_type": "code",
   "execution_count": 26,
   "id": "3dab9914-5363-4be9-b8fb-78d1e5e2904f",
   "metadata": {
    "execution": {
     "iopub.execute_input": "2024-10-30T19:13:50.824255Z",
     "iopub.status.busy": "2024-10-30T19:13:50.824060Z",
     "iopub.status.idle": "2024-10-30T19:13:51.093118Z",
     "shell.execute_reply": "2024-10-30T19:13:51.092296Z",
     "shell.execute_reply.started": "2024-10-30T19:13:50.824227Z"
    },
    "tags": []
   },
   "outputs": [
    {
     "data": {
      "application/vnd.jupyter.widget-view+json": {
       "model_id": "d90753645d1e432399b410ce154630cf",
       "version_major": 2,
       "version_minor": 0
      },
      "text/plain": [
       "VBox()"
      ]
     },
     "metadata": {},
     "output_type": "display_data"
    },
    {
     "data": {
      "application/vnd.jupyter.widget-view+json": {
       "model_id": "",
       "version_major": 2,
       "version_minor": 0
      },
      "text/plain": [
       "FloatProgress(value=0.0, bar_style='info', description='Progress:', layout=Layout(height='25px', width='50%'),…"
      ]
     },
     "metadata": {},
     "output_type": "display_data"
    }
   ],
   "source": [
    "# Convert the 'scaled_features' vector to an array for individual column access\n",
    "from pyspark.ml.functions import vector_to_array\n",
    "scaled_df = scaled_df.withColumn(\"scaled_features_array\", vector_to_array(\"scaled_features\"))"
   ]
  },
  {
   "cell_type": "code",
   "execution_count": 27,
   "id": "c5be6061-8e55-4ae9-8f17-27654fb8cfd5",
   "metadata": {
    "execution": {
     "iopub.execute_input": "2024-10-30T19:13:51.094753Z",
     "iopub.status.busy": "2024-10-30T19:13:51.094483Z",
     "iopub.status.idle": "2024-10-30T19:13:51.856999Z",
     "shell.execute_reply": "2024-10-30T19:13:51.856210Z",
     "shell.execute_reply.started": "2024-10-30T19:13:51.094711Z"
    },
    "tags": []
   },
   "outputs": [
    {
     "data": {
      "application/vnd.jupyter.widget-view+json": {
       "model_id": "42ef03147a9a4ac2abc015e96b85ecdd",
       "version_major": 2,
       "version_minor": 0
      },
      "text/plain": [
       "VBox()"
      ]
     },
     "metadata": {},
     "output_type": "display_data"
    },
    {
     "data": {
      "application/vnd.jupyter.widget-view+json": {
       "model_id": "",
       "version_major": 2,
       "version_minor": 0
      },
      "text/plain": [
       "FloatProgress(value=0.0, bar_style='info', description='Progress:', layout=Layout(height='25px', width='50%'),…"
      ]
     },
     "metadata": {},
     "output_type": "display_data"
    }
   ],
   "source": [
    "# Replace original numeric columns with scaled columns prefixed with 'scaled_'\n",
    "for i, col_name in enumerate(numeric_cols):\n",
    "    scaled_col = f\"scaled_{col_name}\"\n",
    "    scaled_df = scaled_df.withColumn(scaled_col, col(\"scaled_features_array\")[i])"
   ]
  },
  {
   "cell_type": "code",
   "execution_count": 28,
   "id": "9d12b938-a75c-4f63-b00b-335fc4709aad",
   "metadata": {
    "execution": {
     "iopub.execute_input": "2024-10-30T19:13:51.858363Z",
     "iopub.status.busy": "2024-10-30T19:13:51.858156Z",
     "iopub.status.idle": "2024-10-30T19:13:52.117277Z",
     "shell.execute_reply": "2024-10-30T19:13:52.116433Z",
     "shell.execute_reply.started": "2024-10-30T19:13:51.858334Z"
    },
    "tags": []
   },
   "outputs": [
    {
     "data": {
      "application/vnd.jupyter.widget-view+json": {
       "model_id": "ce8cdaf5afab44809f5c9bc8e90d7bda",
       "version_major": 2,
       "version_minor": 0
      },
      "text/plain": [
       "VBox()"
      ]
     },
     "metadata": {},
     "output_type": "display_data"
    },
    {
     "data": {
      "application/vnd.jupyter.widget-view+json": {
       "model_id": "",
       "version_major": 2,
       "version_minor": 0
      },
      "text/plain": [
       "FloatProgress(value=0.0, bar_style='info', description='Progress:', layout=Layout(height='25px', width='50%'),…"
      ]
     },
     "metadata": {},
     "output_type": "display_data"
    }
   ],
   "source": [
    "# Drop the original numeric columns and intermediate columns\n",
    "scaled_df = scaled_df.drop(\"numeric_features\", \"scaled_features\", \"scaled_features_array\") \\\n",
    ".drop(*numeric_cols)"
   ]
  },
  {
   "cell_type": "code",
   "execution_count": 29,
   "id": "97eae6f7-bbb0-4a9e-ab83-5410af3e9f71",
   "metadata": {
    "execution": {
     "iopub.execute_input": "2024-10-30T19:13:52.118885Z",
     "iopub.status.busy": "2024-10-30T19:13:52.118617Z",
     "iopub.status.idle": "2024-10-30T19:13:57.437715Z",
     "shell.execute_reply": "2024-10-30T19:13:57.437021Z",
     "shell.execute_reply.started": "2024-10-30T19:13:52.118844Z"
    },
    "tags": []
   },
   "outputs": [
    {
     "data": {
      "application/vnd.jupyter.widget-view+json": {
       "model_id": "d40ce4b86dc2458ea60c71190139e08c",
       "version_major": 2,
       "version_minor": 0
      },
      "text/plain": [
       "VBox()"
      ]
     },
     "metadata": {},
     "output_type": "display_data"
    },
    {
     "data": {
      "application/vnd.jupyter.widget-view+json": {
       "model_id": "",
       "version_major": 2,
       "version_minor": 0
      },
      "text/plain": [
       "FloatProgress(value=0.0, bar_style='info', description='Progress:', layout=Layout(height='25px', width='50%'),…"
      ]
     },
     "metadata": {},
     "output_type": "display_data"
    },
    {
     "name": "stdout",
     "output_type": "stream",
     "text": [
      "+--------------------+-------------+------------------+-------------+--------------------+--------------------+-------------------------+-------------------+----------------------------+--------------------------+--------------------+-------------------------------+-------------------------+---------------------------+---------------------+-----------------------------------+------------------------+--------------------+--------------------------+--------------------+-------------------+-----------------------+-----------------------+-----------------------------------+-------------------+\n",
      "|          CustomerID|   Gender_OHE|MarriageStatus_OHE| Location_OHE|          scaled_Age|       scaled_Income|scaled_total_transactions| scaled_total_spent|scaled_avg_transaction_value|scaled_total_emails_opened| scaled_total_clicks|scaled_total_points_accumulated|scaled_total_pages_viewed|scaled_avg_session_duration|scaled_total_sessions|scaled_LoyaltyProgramStatus_encoded|scaled_Education_encoded|  scaled_GenderIndex|scaled_MarriageStatusIndex|scaled_LocationIndex|     scaled_recency|scaled_engagement_score|scaled_behavioral_score|scaled_spend_engagement_interaction|         scaled_LTV|\n",
      "+--------------------+-------------+------------------+-------------+--------------------+--------------------+-------------------------+-------------------+----------------------------+--------------------------+--------------------+-------------------------------+-------------------------+---------------------------+---------------------+-----------------------------------+------------------------+--------------------+--------------------------+--------------------+-------------------+-----------------------+-----------------------+-----------------------------------+-------------------+\n",
      "|f788f889-763c-4be...|(3,[0],[1.0])|     (4,[1],[1.0])|(5,[4],[1.0])| -0.7356998803623853|  -1.035329850536723|      -1.8338355157164727|-1.6588678195019892|          -1.627461023459706|       -1.2564065067894146| -1.0351653116803683|            -1.1382501684950477|       -1.154859382621581|        -1.2061123254866122| -0.22392615215460043|                -0.9245466959172779|     0.10416354332253075| -1.2122040686832267|        0.2923119708523697|  1.4322668195703114|0.03322404451213294|    -1.1794983869122175|     -1.160796820662408|                 -0.904518947308928|-1.6588678195019892|\n",
      "|6e19ed05-6180-460...|(3,[0],[1.0])|     (4,[1],[1.0])|(5,[4],[1.0])|  1.6908806945639145| -0.9416059947027758|      -0.9169177578582342|  1.072247596917504|          1.8109052917144144|        1.0597132491946943|  1.5518751435912568|             1.8195050617336856|       1.9151927540359204|         2.2762824353564755| -0.22392615215460043|                 1.1272657672812953|     -0.9576462764791229| -1.2122040686832267|        0.2923119708523697|  1.4322668195703114| 0.6193337007240417|      1.255791367415773|     1.9308188579852623|                 1.1834004341184363|  1.072247596917504|\n",
      "|66c01c6b-322e-47b...|(3,[0],[1.0])|     (4,[0],[1.0])|(5,[4],[1.0])| -1.2603659506167204|-0.44698638333943824|     -0.18338355157164318|-0.2544586220104808|        -0.21107037254734157|       -0.5242138097363737|-0.36785394190936965|            -0.3842139021820376|      -0.7741653791809331|         -0.671619850167768|  -1.5674830650823368|                0.10135953568200871|     -2.0194560962807766| -1.2122040686832267|       -0.9150898087939406|  1.4322668195703114|-0.3016957590375292|    -0.4675014587384615|    -0.7821389154706384|                -0.5017051487202991|-0.2544586220104808|\n",
      "|4fdb8961-447c-433...|(3,[0],[1.0])|     (4,[1],[1.0])|(5,[2],[1.0])|-0.40778358645342583| -0.3111931791813834|      -0.5501506547149386|-0.4329629598706489|        -0.28409279094277656|       -0.6437554745613598| -0.6289757822545431|           -0.38573508024877706|       -1.107743788136352|        -0.5734123115133174|   -2.015335369391582|                0.10135953568200871|     0.10416354332253075| -1.2122040686832267|        0.2923119708523697| 0.02227782609687949|-0.8040754643620225|    -0.6422474411100884|    -1.1045402519141934|                -0.6151272691489285|-0.4329629598706489|\n",
      "|353d0bed-2332-4a9...|(3,[1],[1.0])|     (4,[0],[1.0])|(5,[4],[1.0])| -0.7356998803623853|-0.12373731526818896|       1.4670684125731865| 1.1684540766922593|          0.5501577777024544|        0.5187872158616316|  0.5412369096627155|             0.5007606915680083|        0.697725792537611|        0.10076171527112453|   0.6717784564638904|                0.10135953568200871|     -0.9576462764791229|0.013854461389823807|       -0.9150898087939406|  1.4322668195703114| -0.887805415249438|     0.5307814405547682|     0.6831721618679658|                 0.6611878338173701| 1.1684540766922593|\n",
      "+--------------------+-------------+------------------+-------------+--------------------+--------------------+-------------------------+-------------------+----------------------------+--------------------------+--------------------+-------------------------------+-------------------------+---------------------------+---------------------+-----------------------------------+------------------------+--------------------+--------------------------+--------------------+-------------------+-----------------------+-----------------------+-----------------------------------+-------------------+\n",
      "only showing top 5 rows"
     ]
    }
   ],
   "source": [
    "# Display the scaled DataFrame\n",
    "scaled_df.show(5)"
   ]
  },
  {
   "cell_type": "markdown",
   "id": "27c4f110-a0d0-431a-b676-9b4bdcfd919b",
   "metadata": {
    "execution": {
     "iopub.execute_input": "2024-10-30T08:55:07.740410Z",
     "iopub.status.busy": "2024-10-30T08:55:07.740169Z",
     "iopub.status.idle": "2024-10-30T08:55:07.788582Z",
     "shell.execute_reply": "2024-10-30T08:55:07.787938Z",
     "shell.execute_reply.started": "2024-10-30T08:55:07.740381Z"
    },
    "tags": []
   },
   "source": [
    "### 4. Feature Selection"
   ]
  },
  {
   "cell_type": "code",
   "execution_count": 30,
   "id": "665e14ba-f826-4288-a198-0e799e033d1d",
   "metadata": {
    "execution": {
     "iopub.execute_input": "2024-10-30T19:13:57.438966Z",
     "iopub.status.busy": "2024-10-30T19:13:57.438770Z",
     "iopub.status.idle": "2024-10-30T19:13:57.494089Z",
     "shell.execute_reply": "2024-10-30T19:13:57.493356Z",
     "shell.execute_reply.started": "2024-10-30T19:13:57.438938Z"
    }
   },
   "outputs": [
    {
     "data": {
      "application/vnd.jupyter.widget-view+json": {
       "model_id": "535052d8f8c14cdf9fa9f94c8acc2c05",
       "version_major": 2,
       "version_minor": 0
      },
      "text/plain": [
       "VBox()"
      ]
     },
     "metadata": {},
     "output_type": "display_data"
    },
    {
     "data": {
      "application/vnd.jupyter.widget-view+json": {
       "model_id": "",
       "version_major": 2,
       "version_minor": 0
      },
      "text/plain": [
       "FloatProgress(value=0.0, bar_style='info', description='Progress:', layout=Layout(height='25px', width='50%'),…"
      ]
     },
     "metadata": {},
     "output_type": "display_data"
    }
   ],
   "source": [
    "from pyspark.ml.stat import Correlation\n",
    "from pyspark.ml.feature import VectorAssembler\n",
    "import pandas as pd"
   ]
  },
  {
   "cell_type": "markdown",
   "id": "8cf7fbcf-1b1b-4407-aaaf-83684bd59e7c",
   "metadata": {},
   "source": [
    "**Unpacking OHE Vector into individual columns**"
   ]
  },
  {
   "cell_type": "code",
   "execution_count": 31,
   "id": "014b411b-0bea-4b8b-bf68-9858dc13860f",
   "metadata": {
    "execution": {
     "iopub.execute_input": "2024-10-30T19:13:57.495697Z",
     "iopub.status.busy": "2024-10-30T19:13:57.495434Z",
     "iopub.status.idle": "2024-10-30T19:14:02.792616Z",
     "shell.execute_reply": "2024-10-30T19:14:02.791852Z",
     "shell.execute_reply.started": "2024-10-30T19:13:57.495658Z"
    }
   },
   "outputs": [
    {
     "data": {
      "application/vnd.jupyter.widget-view+json": {
       "model_id": "ff002caad8fc42d2b1d1b78a230046ed",
       "version_major": 2,
       "version_minor": 0
      },
      "text/plain": [
       "VBox()"
      ]
     },
     "metadata": {},
     "output_type": "display_data"
    },
    {
     "data": {
      "application/vnd.jupyter.widget-view+json": {
       "model_id": "",
       "version_major": 2,
       "version_minor": 0
      },
      "text/plain": [
       "FloatProgress(value=0.0, bar_style='info', description='Progress:', layout=Layout(height='25px', width='50%'),…"
      ]
     },
     "metadata": {},
     "output_type": "display_data"
    }
   ],
   "source": [
    "from pyspark.ml.functions import vector_to_array\n",
    "\n",
    "# Turn those one-hot encoded vectors into arrays\n",
    "# Why? Because right now they're all packed into one column as vectors, and we want to break them out into separate pieces.\n",
    "scaled_df = scaled_df.withColumn(\"Gender_OHE_array\", vector_to_array(\"Gender_OHE\")) \\\n",
    "                     .withColumn(\"MarriageStatus_OHE_array\", vector_to_array(\"MarriageStatus_OHE\")) \\\n",
    "                     .withColumn(\"Location_OHE_array\", vector_to_array(\"Location_OHE\"))\n",
    "\n",
    "# Figure out how many categories each one-hot column has\n",
    "# Basically, we're counting how many different pieces are in each of those arrays.\n",
    "num_gender_categories = len(scaled_df.select(\"Gender_OHE_array\").first()[0])\n",
    "num_marriage_status_categories = len(scaled_df.select(\"MarriageStatus_OHE_array\").first()[0])\n",
    "num_location_categories = len(scaled_df.select(\"Location_OHE_array\").first()[0])\n",
    "\n",
    "# Make separate columns for each category\n",
    "# We're taking each piece from those arrays and giving it its own column. This way, each category is its own thing.\n",
    "for i in range(num_gender_categories):\n",
    "    scaled_df = scaled_df.withColumn(f\"Gender_OHE_{i}\", col(\"Gender_OHE_array\")[i])\n",
    "\n",
    "for i in range(num_marriage_status_categories):\n",
    "    scaled_df = scaled_df.withColumn(f\"MarriageStatus_OHE_{i}\", col(\"MarriageStatus_OHE_array\")[i])\n",
    "\n",
    "for i in range(num_location_categories):\n",
    "    scaled_df = scaled_df.withColumn(f\"Location_OHE_{i}\", col(\"Location_OHE_array\")[i])\n",
    "\n",
    "# Get rid of the original vector columns\n",
    "# Now that we've split them up, we don't need the original packed columns anymore. Let's clean up!\n",
    "scaled_df = scaled_df.drop(\"Gender_OHE\", \"MarriageStatus_OHE\", \"Location_OHE\",\n",
    "                           \"Gender_OHE_array\", \"MarriageStatus_OHE_array\", \"Location_OHE_array\")\n"
   ]
  },
  {
   "cell_type": "markdown",
   "id": "77902ed2-afaa-45b9-93fc-e209258c23d9",
   "metadata": {
    "execution": {
     "iopub.execute_input": "2024-10-30T10:22:41.990924Z",
     "iopub.status.busy": "2024-10-30T10:22:41.990680Z",
     "iopub.status.idle": "2024-10-30T10:22:42.041559Z",
     "shell.execute_reply": "2024-10-30T10:22:42.040931Z",
     "shell.execute_reply.started": "2024-10-30T10:22:41.990897Z"
    }
   },
   "source": [
    "**Creating vector_df**"
   ]
  },
  {
   "cell_type": "code",
   "execution_count": 32,
   "id": "0e75b260-7b74-49ac-8cce-925edee3016d",
   "metadata": {
    "execution": {
     "iopub.execute_input": "2024-10-30T19:14:02.793964Z",
     "iopub.status.busy": "2024-10-30T19:14:02.793751Z",
     "iopub.status.idle": "2024-10-30T19:14:03.045767Z",
     "shell.execute_reply": "2024-10-30T19:14:03.044950Z",
     "shell.execute_reply.started": "2024-10-30T19:14:02.793933Z"
    }
   },
   "outputs": [
    {
     "data": {
      "application/vnd.jupyter.widget-view+json": {
       "model_id": "271a45ebedfc4ea688d7af41e2e0b867",
       "version_major": 2,
       "version_minor": 0
      },
      "text/plain": [
       "VBox()"
      ]
     },
     "metadata": {},
     "output_type": "display_data"
    },
    {
     "data": {
      "application/vnd.jupyter.widget-view+json": {
       "model_id": "",
       "version_major": 2,
       "version_minor": 0
      },
      "text/plain": [
       "FloatProgress(value=0.0, bar_style='info', description='Progress:', layout=Layout(height='25px', width='50%'),…"
      ]
     },
     "metadata": {},
     "output_type": "display_data"
    }
   ],
   "source": [
    "# Defining input_cols with all numeric columns including the columns from OHE\n",
    "input_cols = [col_name for col_name in scaled_df.columns if col_name.startswith(\"scaled_\") or col_name.endswith(\"_OHE\")]\n",
    "\n",
    "# Assemble features into vector\n",
    "assembler = VectorAssembler(inputCols=input_cols, outputCol=\"features\")\n",
    "vector_df = assembler.transform(scaled_df.select(*input_cols)).select(\"features\")"
   ]
  },
  {
   "cell_type": "markdown",
   "id": "8c5ed5d6-3266-407c-80d3-301b352352a7",
   "metadata": {},
   "source": [
    "#### 4.1 K Means Segementationusing High Correlated Features"
   ]
  },
  {
   "cell_type": "code",
   "execution_count": 33,
   "id": "4fe9dcc7-a135-4d08-a398-64e269a0a801",
   "metadata": {
    "execution": {
     "iopub.execute_input": "2024-10-30T19:14:03.047030Z",
     "iopub.status.busy": "2024-10-30T19:14:03.046813Z",
     "iopub.status.idle": "2024-10-30T19:14:18.383595Z",
     "shell.execute_reply": "2024-10-30T19:14:18.382865Z",
     "shell.execute_reply.started": "2024-10-30T19:14:03.046991Z"
    }
   },
   "outputs": [
    {
     "data": {
      "application/vnd.jupyter.widget-view+json": {
       "model_id": "a1aa043f4236449da71b8480c87f7762",
       "version_major": 2,
       "version_minor": 0
      },
      "text/plain": [
       "VBox()"
      ]
     },
     "metadata": {},
     "output_type": "display_data"
    },
    {
     "data": {
      "application/vnd.jupyter.widget-view+json": {
       "model_id": "",
       "version_major": 2,
       "version_minor": 0
      },
      "text/plain": [
       "FloatProgress(value=0.0, bar_style='info', description='Progress:', layout=Layout(height='25px', width='50%'),…"
      ]
     },
     "metadata": {},
     "output_type": "display_data"
    },
    {
     "name": "stdout",
     "output_type": "stream",
     "text": [
      "Selected features based on correlation: ['scaled_total_spent', 'scaled_avg_transaction_value', 'scaled_total_emails_opened', 'scaled_total_clicks', 'scaled_total_points_accumulated', 'scaled_total_pages_viewed', 'scaled_avg_session_duration', 'scaled_LoyaltyProgramStatus_encoded', 'scaled_engagement_score', 'scaled_behavioral_score', 'scaled_spend_engagement_interaction', 'scaled_LTV']"
     ]
    }
   ],
   "source": [
    "\n",
    "# Compute Correlation Matrix\n",
    "corr_matrix = Correlation.corr(vector_df, \"features\").head()[0].toArray()\n",
    "\n",
    "# Convert to Pandas DataFrame for easier handling\n",
    "correlation_matrix = pd.DataFrame(corr_matrix, index=input_cols, columns=input_cols)\n",
    "\n",
    "# Select features with correlation > 0.5 with 'scaled_total_spent'\n",
    "high_correlation_threshold = 0.5\n",
    "target_feature = 'scaled_total_spent'\n",
    "\n",
    "high_corr_features = correlation_matrix[target_feature].abs() > high_correlation_threshold\n",
    "selected_features = correlation_matrix.columns[high_corr_features].tolist()\n",
    "print(\"Selected features based on correlation:\", selected_features)"
   ]
  },
  {
   "cell_type": "markdown",
   "id": "c36e1d8b-3674-4921-8256-9fa60352ead3",
   "metadata": {},
   "source": [
    "- To reduce multicollinearity, we need to select features that are highly correlated with our target but not with each other. \n",
    "\n",
    "- In the above output, we have got the highly correlated features with our target, but also, some of them are internally correlated.\n",
    "\n",
    "Here is the interrelated features:\n",
    "\n",
    "- **'scaled_engagement_score'** is calculated from 'scaled_total_emails_opened', and 'scaled_total_clicks',\n",
    "\n",
    "- **'scaled_behavioral_score'** is calculated from 'scaled_total_pages_viewed', and 'scaled_avg_session_duration',\n",
    "\n",
    "- **'scaled_spend_engagement_interaction'**, is calculated from 'scaled_total_spent', and  'scaled_engagement_score',\n",
    "\n",
    "Therefore, the following features are selected to reduce multicollinearity:\n",
    "\n",
    "    - 'scaled_total_spent', \n",
    "    - 'scaled_avg_transaction_value', \n",
    "    - 'scaled_total_points_accumulated', \n",
    "    - 'scaled_LoyaltyProgramStatus_encoded', \n",
    "    - 'scaled_engagement_score', \n",
    "    - 'scaled_behavioral_score', \n",
    "    - 'scaled_LTV'\n"
   ]
  },
  {
   "cell_type": "code",
   "execution_count": 34,
   "id": "aa1606d3-6a10-4d9e-8378-dbd1c3efb7cf",
   "metadata": {
    "execution": {
     "iopub.execute_input": "2024-10-30T19:14:18.384806Z",
     "iopub.status.busy": "2024-10-30T19:14:18.384616Z",
     "iopub.status.idle": "2024-10-30T19:14:18.439886Z",
     "shell.execute_reply": "2024-10-30T19:14:18.439144Z",
     "shell.execute_reply.started": "2024-10-30T19:14:18.384778Z"
    },
    "tags": []
   },
   "outputs": [
    {
     "data": {
      "application/vnd.jupyter.widget-view+json": {
       "model_id": "33ca719b7e324b4281dc18a292b4f5d9",
       "version_major": 2,
       "version_minor": 0
      },
      "text/plain": [
       "VBox()"
      ]
     },
     "metadata": {},
     "output_type": "display_data"
    },
    {
     "data": {
      "application/vnd.jupyter.widget-view+json": {
       "model_id": "",
       "version_major": 2,
       "version_minor": 0
      },
      "text/plain": [
       "FloatProgress(value=0.0, bar_style='info', description='Progress:', layout=Layout(height='25px', width='50%'),…"
      ]
     },
     "metadata": {},
     "output_type": "display_data"
    }
   ],
   "source": [
    "selected_features = ['scaled_total_spent',\n",
    "'scaled_avg_transaction_value',\n",
    "'scaled_total_points_accumulated',\n",
    "'scaled_LoyaltyProgramStatus_encoded',\n",
    "'scaled_engagement_score',\n",
    "'scaled_behavioral_score',\n",
    "'scaled_LTV']"
   ]
  },
  {
   "cell_type": "markdown",
   "id": "e6487290-d741-4468-ab08-124046b080d1",
   "metadata": {},
   "source": [
    "Model Implementation"
   ]
  },
  {
   "cell_type": "code",
   "execution_count": 35,
   "id": "6f7fb9dd-01bf-4db6-bec5-a3ba0b865129",
   "metadata": {
    "execution": {
     "iopub.execute_input": "2024-10-30T19:14:18.441204Z",
     "iopub.status.busy": "2024-10-30T19:14:18.441004Z",
     "iopub.status.idle": "2024-10-30T19:14:18.489477Z",
     "shell.execute_reply": "2024-10-30T19:14:18.488806Z",
     "shell.execute_reply.started": "2024-10-30T19:14:18.441172Z"
    }
   },
   "outputs": [
    {
     "data": {
      "application/vnd.jupyter.widget-view+json": {
       "model_id": "76c9fb54c5bf4a578f49110b21dc43be",
       "version_major": 2,
       "version_minor": 0
      },
      "text/plain": [
       "VBox()"
      ]
     },
     "metadata": {},
     "output_type": "display_data"
    },
    {
     "data": {
      "application/vnd.jupyter.widget-view+json": {
       "model_id": "",
       "version_major": 2,
       "version_minor": 0
      },
      "text/plain": [
       "FloatProgress(value=0.0, bar_style='info', description='Progress:', layout=Layout(height='25px', width='50%'),…"
      ]
     },
     "metadata": {},
     "output_type": "display_data"
    }
   ],
   "source": [
    "from pyspark.ml.clustering import KMeans, GaussianMixture\n",
    "from pyspark.ml.evaluation import ClusteringEvaluator"
   ]
  },
  {
   "cell_type": "code",
   "execution_count": 36,
   "id": "f4e41b08-aebd-424d-85fd-76b064669880",
   "metadata": {
    "execution": {
     "iopub.execute_input": "2024-10-30T19:14:18.490715Z",
     "iopub.status.busy": "2024-10-30T19:14:18.490514Z",
     "iopub.status.idle": "2024-10-30T19:14:18.748833Z",
     "shell.execute_reply": "2024-10-30T19:14:18.747965Z",
     "shell.execute_reply.started": "2024-10-30T19:14:18.490686Z"
    }
   },
   "outputs": [
    {
     "data": {
      "application/vnd.jupyter.widget-view+json": {
       "model_id": "bbc456528d4b48b3a5049c8539ecaa2b",
       "version_major": 2,
       "version_minor": 0
      },
      "text/plain": [
       "VBox()"
      ]
     },
     "metadata": {},
     "output_type": "display_data"
    },
    {
     "data": {
      "application/vnd.jupyter.widget-view+json": {
       "model_id": "",
       "version_major": 2,
       "version_minor": 0
      },
      "text/plain": [
       "FloatProgress(value=0.0, bar_style='info', description='Progress:', layout=Layout(height='25px', width='50%'),…"
      ]
     },
     "metadata": {},
     "output_type": "display_data"
    }
   ],
   "source": [
    "assembler = VectorAssembler(inputCols=selected_features, outputCol=\"model_features\")\n",
    "model_df = assembler.transform(scaled_df).select(\"CustomerID\", \"model_features\")"
   ]
  },
  {
   "cell_type": "code",
   "execution_count": 37,
   "id": "173b540a-eec4-4381-8ca9-23e3d4409b42",
   "metadata": {
    "execution": {
     "iopub.execute_input": "2024-10-30T19:14:18.750303Z",
     "iopub.status.busy": "2024-10-30T19:14:18.750042Z",
     "iopub.status.idle": "2024-10-30T19:14:54.424258Z",
     "shell.execute_reply": "2024-10-30T19:14:54.423442Z",
     "shell.execute_reply.started": "2024-10-30T19:14:18.750263Z"
    },
    "tags": []
   },
   "outputs": [
    {
     "data": {
      "application/vnd.jupyter.widget-view+json": {
       "model_id": "c720d24350634c638e0349c3c43a6750",
       "version_major": 2,
       "version_minor": 0
      },
      "text/plain": [
       "VBox()"
      ]
     },
     "metadata": {},
     "output_type": "display_data"
    },
    {
     "data": {
      "application/vnd.jupyter.widget-view+json": {
       "model_id": "",
       "version_major": 2,
       "version_minor": 0
      },
      "text/plain": [
       "FloatProgress(value=0.0, bar_style='info', description='Progress:', layout=Layout(height='25px', width='50%'),…"
      ]
     },
     "metadata": {},
     "output_type": "display_data"
    },
    {
     "name": "stdout",
     "output_type": "stream",
     "text": [
      "K-Means Silhouette Score: 0.7270781773018489"
     ]
    }
   ],
   "source": [
    "k = 2 # Number of clusters\n",
    "kmeans = KMeans(featuresCol=\"model_features\", k=k, seed=1)\n",
    "kmeans_model = kmeans.fit(model_df)\n",
    "kmeans_predictions = kmeans_model.transform(model_df)\n",
    "\n",
    "# Evaluate K-Means\n",
    "evaluator = ClusteringEvaluator(featuresCol=\"model_features\")\n",
    "silhouette_kmeans = evaluator.evaluate(kmeans_predictions)\n",
    "print(f\"K-Means Silhouette Score: {silhouette_kmeans}\")"
   ]
  },
  {
   "cell_type": "markdown",
   "id": "1fc444d7-7d26-43c4-bc95-fe79bd4a9993",
   "metadata": {
    "execution": {
     "iopub.execute_input": "2024-10-30T19:48:02.302419Z",
     "iopub.status.busy": "2024-10-30T19:48:02.302157Z",
     "iopub.status.idle": "2024-10-30T19:48:02.367713Z",
     "shell.execute_reply": "2024-10-30T19:48:02.366669Z",
     "shell.execute_reply.started": "2024-10-30T19:48:02.302386Z"
    }
   },
   "source": [
    "**Silhouette Score**\n",
    "\n",
    "- The Silhouette Score evaluates clustering quality by measuring how similar an object is to its own cluster versus others. \n",
    "\n",
    "- It ranges from -1 to 1; a score near 1 indicates good clustering, while 0 means points are near cluster boundaries, and negative values suggest misassignment. \n",
    "\n",
    "- A score above 0.5 is generally acceptable."
   ]
  },
  {
   "cell_type": "markdown",
   "id": "7d123d3f-2a79-44ba-92cb-c1f8f4e10b01",
   "metadata": {},
   "source": [
    "#### 4.2 KMeans Clustering using PCA"
   ]
  },
  {
   "cell_type": "code",
   "execution_count": 38,
   "id": "6c80aa8d-de48-42b4-bd37-72c86ed5fe37",
   "metadata": {
    "execution": {
     "iopub.execute_input": "2024-10-30T19:14:54.425585Z",
     "iopub.status.busy": "2024-10-30T19:14:54.425389Z",
     "iopub.status.idle": "2024-10-30T19:15:32.740608Z",
     "shell.execute_reply": "2024-10-30T19:15:32.739817Z",
     "shell.execute_reply.started": "2024-10-30T19:14:54.425558Z"
    },
    "tags": []
   },
   "outputs": [
    {
     "data": {
      "application/vnd.jupyter.widget-view+json": {
       "model_id": "5272292f36b84fe2bc6d12b1a3bd1088",
       "version_major": 2,
       "version_minor": 0
      },
      "text/plain": [
       "VBox()"
      ]
     },
     "metadata": {},
     "output_type": "display_data"
    },
    {
     "data": {
      "application/vnd.jupyter.widget-view+json": {
       "model_id": "",
       "version_major": 2,
       "version_minor": 0
      },
      "text/plain": [
       "FloatProgress(value=0.0, bar_style='info', description='Progress:', layout=Layout(height='25px', width='50%'),…"
      ]
     },
     "metadata": {},
     "output_type": "display_data"
    },
    {
     "name": "stdout",
     "output_type": "stream",
     "text": [
      "*********Comparison**********\n",
      "Silhouette Score with Highly Correlated Features: 0.7270781773018489\n",
      "Silhouette Score with PCA: 0.5256244821160316"
     ]
    }
   ],
   "source": [
    "from pyspark.ml.feature import PCA\n",
    "from pyspark.ml.clustering import KMeans\n",
    "from pyspark.ml.evaluation import ClusteringEvaluator\n",
    "from pyspark.ml.feature import VectorAssembler\n",
    "\n",
    "# Step 1: Prepare Data for PCA\n",
    "input_cols = [col_name for col_name in scaled_df.columns if col_name.startswith(\"scaled_\") or col_name.endswith(\"_OHE\")]\n",
    "\n",
    "# Assemble features into a vector\n",
    "assembler = VectorAssembler(inputCols=input_cols, outputCol=\"features\")\n",
    "vector_df = assembler.transform(scaled_df)\n",
    "\n",
    "# Step 2: Fit PCA with all components\n",
    "pca_full = PCA(k=len(input_cols), inputCol=\"features\", outputCol=\"pca_features_full\")\n",
    "pca_full_model = pca_full.fit(vector_df)\n",
    "\n",
    "# Calculate the number of components needed to retain 95% variance\n",
    "explained_variance = pca_full_model.explainedVariance.cumsum()\n",
    "num_components = next(i for i, cumulative_variance in enumerate(explained_variance) if cumulative_variance >= 0.95) + 1\n",
    "\n",
    "# Apply PCA with the calculated number of components\n",
    "pca = PCA(k=num_components, inputCol=\"features\", outputCol=\"pca_features\")\n",
    "pca_model = pca.fit(vector_df)\n",
    "pca_df = pca_model.transform(vector_df)\n",
    "\n",
    "# Step 3: K-Means Clustering on PCA Components\n",
    "k = 2  # Number of clusters\n",
    "kmeans = KMeans(featuresCol=\"pca_features\", k=k, seed=1)\n",
    "kmeans_model = kmeans.fit(pca_df)\n",
    "kmeans_predictions = kmeans_model.transform(pca_df)\n",
    "\n",
    "# Step 4: Evaluate and Compare\n",
    "evaluator = ClusteringEvaluator(featuresCol=\"pca_features\")\n",
    "silhouette_pca = evaluator.evaluate(kmeans_predictions)\n",
    "\n",
    "# Compare silhouette scores\n",
    "print(\"*********Comparison**********\")\n",
    "print(f\"Silhouette Score with Highly Correlated Features: {silhouette_kmeans}\")\n",
    "print(f\"Silhouette Score with PCA: {silhouette_pca}\")"
   ]
  },
  {
   "cell_type": "markdown",
   "id": "8cbd9fd7-74ad-457b-bedb-05184473ef11",
   "metadata": {
    "execution": {
     "iopub.execute_input": "2024-10-30T11:45:51.698153Z",
     "iopub.status.busy": "2024-10-30T11:45:51.697793Z"
    }
   },
   "source": [
    "Now It is clear that using High Correlated Features are much better than PCA. "
   ]
  },
  {
   "cell_type": "markdown",
   "id": "c2effdae-552d-40f2-8436-b420deb37e9f",
   "metadata": {},
   "source": [
    "### 5. KMeans Model Implemention and Fine Tuning "
   ]
  },
  {
   "cell_type": "markdown",
   "id": "c1880879-87d9-49b6-9302-4b618bda328d",
   "metadata": {},
   "source": [
    "#### 5.1 Selecting the Best Numbers of Clusters"
   ]
  },
  {
   "cell_type": "code",
   "execution_count": 39,
   "id": "a05aa646-66cb-40ac-87ff-131bd987e35c",
   "metadata": {
    "execution": {
     "iopub.execute_input": "2024-10-30T19:15:32.742361Z",
     "iopub.status.busy": "2024-10-30T19:15:32.742090Z",
     "iopub.status.idle": "2024-10-30T19:19:05.814238Z",
     "shell.execute_reply": "2024-10-30T19:19:05.813236Z",
     "shell.execute_reply.started": "2024-10-30T19:15:32.742319Z"
    },
    "tags": []
   },
   "outputs": [
    {
     "data": {
      "application/vnd.jupyter.widget-view+json": {
       "model_id": "b7291b6173cc476aadc0451be5e46a6e",
       "version_major": 2,
       "version_minor": 0
      },
      "text/plain": [
       "VBox()"
      ]
     },
     "metadata": {},
     "output_type": "display_data"
    },
    {
     "data": {
      "application/vnd.jupyter.widget-view+json": {
       "model_id": "",
       "version_major": 2,
       "version_minor": 0
      },
      "text/plain": [
       "FloatProgress(value=0.0, bar_style='info', description='Progress:', layout=Layout(height='25px', width='50%'),…"
      ]
     },
     "metadata": {},
     "output_type": "display_data"
    },
    {
     "name": "stderr",
     "output_type": "stream",
     "text": [
      "Exception in thread cell_monitor-39:\n",
      "Traceback (most recent call last):\n",
      "  File \"/mnt/notebook-env/lib/python3.9/threading.py\", line 980, in _bootstrap_inner\n",
      "    self.run()\n",
      "  File \"/mnt/notebook-env/lib/python3.9/threading.py\", line 917, in run\n",
      "    self._target(*self._args, **self._kwargs)\n",
      "  File \"/mnt/notebook-env/lib/python3.9/site-packages/awseditorssparkmonitoringwidget/cellmonitor.py\", line 178, in cell_monitor\n",
      "    job_binned_stages[job_id][stage_id] = all_stages[stage_id]\n",
      "KeyError: 1461\n"
     ]
    },
    {
     "data": {
      "image/png": "[encoded data removed]",
      "text/plain": [
       "<IPython.core.display.Image object>"
      ]
     },
     "metadata": {},
     "output_type": "display_data"
    }
   ],
   "source": [
    "from pyspark.ml.clustering import KMeans\n",
    "from pyspark.ml.evaluation import ClusteringEvaluator\n",
    "from pyspark.ml.feature import VectorAssembler\n",
    "import matplotlib.pyplot as plt\n",
    "\n",
    "assembler = VectorAssembler(inputCols=selected_features, outputCol=\"model_features\")\n",
    "model_df = assembler.transform(scaled_df).select(\"CustomerID\", \"model_features\")\n",
    "\n",
    "\n",
    "# Step 2: Elbow Method\n",
    "inertia = []\n",
    "k_values = range(2, 11)  # Test k from 2 to 10\n",
    "\n",
    "for k in k_values:\n",
    "    kmeans = KMeans(featuresCol=\"model_features\", k=k, seed=1)\n",
    "    model = kmeans.fit(model_df)\n",
    "    predictions = model.transform(model_df)\n",
    "    evaluator = ClusteringEvaluator(featuresCol=\"model_features\", metricName=\"silhouette\")\n",
    "    silhouette = evaluator.evaluate(predictions)\n",
    "    inertia.append((k, silhouette))\n",
    "\n",
    "# Plot the Elbow Method results\n",
    "plt.figure(figsize=(8, 5))\n",
    "plt.plot([i[0] for i in inertia], [i[1] for i in inertia], marker='o')\n",
    "plt.title('Elbow Method for Optimal k')\n",
    "plt.xlabel('Number of Clusters (k)')\n",
    "plt.ylabel('Silhouette Score')\n",
    "plt.grid(True)\n",
    "plt.show()\n",
    "%matplot plt"
   ]
  },
  {
   "cell_type": "markdown",
   "id": "614f579d-25c0-40d3-9e26-3271b308fd45",
   "metadata": {},
   "source": [
    "#### 5.2 Finetuning the Parameters"
   ]
  },
  {
   "cell_type": "code",
   "execution_count": 40,
   "id": "e5f91153-76d1-4dc0-8157-490140b1bb73",
   "metadata": {
    "execution": {
     "iopub.execute_input": "2024-10-30T19:19:05.815953Z",
     "iopub.status.busy": "2024-10-30T19:19:05.815680Z",
     "iopub.status.idle": "2024-10-30T19:25:16.452168Z",
     "shell.execute_reply": "2024-10-30T19:25:16.451371Z",
     "shell.execute_reply.started": "2024-10-30T19:19:05.815912Z"
    },
    "tags": []
   },
   "outputs": [
    {
     "data": {
      "application/vnd.jupyter.widget-view+json": {
       "model_id": "b42ff7fe037a435fa6d64be707eedc10",
       "version_major": 2,
       "version_minor": 0
      },
      "text/plain": [
       "VBox()"
      ]
     },
     "metadata": {},
     "output_type": "display_data"
    },
    {
     "data": {
      "application/vnd.jupyter.widget-view+json": {
       "model_id": "",
       "version_major": 2,
       "version_minor": 0
      },
      "text/plain": [
       "FloatProgress(value=0.0, bar_style='info', description='Progress:', layout=Layout(height='25px', width='50%'),…"
      ]
     },
     "metadata": {},
     "output_type": "display_data"
    },
    {
     "name": "stderr",
     "output_type": "stream",
     "text": [
      "Exception in thread cell_monitor-40:\n",
      "Traceback (most recent call last):\n",
      "  File \"/mnt/notebook-env/lib/python3.9/threading.py\", line 980, in _bootstrap_inner\n",
      "    self.run()\n",
      "  File \"/mnt/notebook-env/lib/python3.9/threading.py\", line 917, in run\n",
      "    self._target(*self._args, **self._kwargs)\n",
      "  File \"/mnt/notebook-env/lib/python3.9/site-packages/awseditorssparkmonitoringwidget/cellmonitor.py\", line 178, in cell_monitor\n",
      "    job_binned_stages[job_id][stage_id] = all_stages[stage_id]\n",
      "KeyError: 1693\n"
     ]
    },
    {
     "name": "stdout",
     "output_type": "stream",
     "text": [
      "Best Silhouette Score: 0.7271781404588696\n",
      "Best Parameters: maxIter=10, tol=1e-06"
     ]
    }
   ],
   "source": [
    "# # Fine-Tune K-Means \n",
    "from pyspark.ml.evaluation import ClusteringEvaluator\n",
    "\n",
    "# Fine-tune other parameters of KMeans with k=2\n",
    "k = 2\n",
    "kmeans = KMeans(featuresCol=\"model_features\", k=k, seed=1)\n",
    "\n",
    "# Set different values for maxIter and tol to fine-tune the model\n",
    "max_iter_values = [10, 20, 50, 100]\n",
    "tol_values = [1e-4, 1e-5, 1e-6]\n",
    "\n",
    "best_model = None\n",
    "best_silhouette = -1\n",
    "\n",
    "for max_iter in max_iter_values:\n",
    "    for tol in tol_values:\n",
    "        kmeans.setMaxIter(max_iter)\n",
    "        kmeans.setTol(tol)\n",
    "        model = kmeans.fit(model_df)\n",
    "        predictions = model.transform(model_df)\n",
    "        evaluator = ClusteringEvaluator(featuresCol=\"model_features\", metricName=\"silhouette\")\n",
    "        silhouette = evaluator.evaluate(predictions)\n",
    "        \n",
    "        if silhouette > best_silhouette:\n",
    "            best_silhouette = silhouette\n",
    "            best_model = model\n",
    "\n",
    "print(f\"Best Silhouette Score: {best_silhouette}\")\n",
    "print(f\"Best Parameters: maxIter={best_model.getMaxIter()}, tol={best_model.getTol()}\")\n"
   ]
  },
  {
   "cell_type": "markdown",
   "id": "2726fda6-70e8-4e1d-86c4-381b0d9da628",
   "metadata": {
    "execution": {
     "iopub.execute_input": "2024-10-30T13:13:05.274341Z",
     "iopub.status.busy": "2024-10-30T13:13:05.274091Z",
     "iopub.status.idle": "2024-10-30T13:13:05.319917Z",
     "shell.execute_reply": "2024-10-30T13:13:05.319245Z",
     "shell.execute_reply.started": "2024-10-30T13:13:05.274311Z"
    }
   },
   "source": [
    "#### 5.3 Attaching K_Means Cluster Result to combined_df"
   ]
  },
  {
   "cell_type": "code",
   "execution_count": 41,
   "id": "18a886d9-3493-4481-859f-7eefc4b9198a",
   "metadata": {
    "execution": {
     "iopub.execute_input": "2024-10-30T19:25:16.453425Z",
     "iopub.status.busy": "2024-10-30T19:25:16.453232Z",
     "iopub.status.idle": "2024-10-30T19:25:19.762819Z",
     "shell.execute_reply": "2024-10-30T19:25:19.762137Z",
     "shell.execute_reply.started": "2024-10-30T19:25:16.453395Z"
    },
    "tags": []
   },
   "outputs": [
    {
     "data": {
      "application/vnd.jupyter.widget-view+json": {
       "model_id": "da803a3a9e55498e88670d5b4fdd17e4",
       "version_major": 2,
       "version_minor": 0
      },
      "text/plain": [
       "VBox()"
      ]
     },
     "metadata": {},
     "output_type": "display_data"
    },
    {
     "data": {
      "application/vnd.jupyter.widget-view+json": {
       "model_id": "",
       "version_major": 2,
       "version_minor": 0
      },
      "text/plain": [
       "FloatProgress(value=0.0, bar_style='info', description='Progress:', layout=Layout(height='25px', width='50%'),…"
      ]
     },
     "metadata": {},
     "output_type": "display_data"
    },
    {
     "name": "stdout",
     "output_type": "stream",
     "text": [
      "+--------------------+---+------+-----------+-----------+--------+--------------+-------------+------------------+------------------+---------------------+------------------+-------------------+------------+------------------------+------------------+--------------------+--------------+---------------+\n",
      "|          CustomerID|Age|Gender|   Location|  Education|  Income|MarriageStatus|LoyaltyStatus|total_transactions|       total_spent|avg_transaction_value|last_purchase_date|total_emails_opened|total_clicks|total_points_accumulated|total_pages_viewed|avg_session_duration|total_sessions|KMeans_Clusters|\n",
      "+--------------------+---+------+-----------+-----------+--------+--------------+-------------+------------------+------------------+---------------------+------------------+-------------------+------------+------------------------+------------------+--------------------+--------------+---------------+\n",
      "|4fdb8961-447c-433...| 38|  Male|    Phoenix|   Bachelor|51526.43|        Single|       Bronze|                27|13090.086709314559|   484.81802627090957|        2024-10-23|                309|         109|                    7150|               171|  23.744545454545456|            11|              0|\n",
      "|9165bb00-78a4-44c...| 65|Female|Los Angeles|High School|38548.57|       Married|         Gold|                34|32595.543294220104|     958.692449830003|        2024-10-02|               1305|         718|                   27737|               777|              97.171|            10|              1|\n",
      "|6e19ed05-6180-460...| 70|  Male|    Chicago|High School|31420.64|        Single|       Silver|                25|25997.724137917827|   1039.9089655167131|        2024-10-06|                879|         560|                   25996|              1775|   94.76736842105261|            19|              1|\n",
      "|353d0bed-2332-4a9...| 33|Female|    Chicago|High School|57504.97|       Married|       Bronze|                38|26822.723905302242|    705.8611554026905|        2024-10-24|                698|         351|                   14726|              1129|  40.546956521739126|            23|              1|\n",
      "|66c01c6b-322e-47b...| 25|  Male|    Chicago|      Other|47195.57|       Married|       Bronze|                29|14620.815591158449|   504.16605486753275|        2024-10-17|                349|         163|                    7163|               348|  21.296923076923072|            13|              0|\n",
      "+--------------------+---+------+-----------+-----------+--------+--------------+-------------+------------------+------------------+---------------------+------------------+-------------------+------------+------------------------+------------------+--------------------+--------------+---------------+\n",
      "only showing top 5 rows"
     ]
    }
   ],
   "source": [
    "# Get the predictions from the best model\n",
    "predictions = best_model.transform(model_df)\n",
    "\n",
    "# Select the CustomerID and prediction columns, renaming prediction to \"K_Means Clusters\"\n",
    "cluster_results = predictions.select(\"CustomerID\", col(\"prediction\").alias(\"KMeans_Clusters\"))\n",
    "\n",
    "# Join the cluster results with the combined_df\n",
    "combined_df_with_clusters = combined_df.join(cluster_results, on=\"CustomerID\", how=\"left\")\n",
    "\n",
    "# Show the resulting DataFrame with the new cluster column\n",
    "combined_df_with_clusters.show(5)\n",
    "\n"
   ]
  },
  {
   "cell_type": "markdown",
   "id": "4df4e0d9-76a2-4af0-a1d0-0a8b985dfc8b",
   "metadata": {
    "tags": []
   },
   "source": [
    "### 6. GMM Model Implemention and Fine Tuning "
   ]
  },
  {
   "cell_type": "markdown",
   "id": "c83c0128-aaf0-4f2c-b72d-902e5141e7f7",
   "metadata": {},
   "source": [
    "#### 6.1 Determine the Optimal Number of Clusters Using Silhouette Score"
   ]
  },
  {
   "cell_type": "code",
   "execution_count": 42,
   "id": "ee4efa8e-8704-48f4-8cf6-e0d2891f0386",
   "metadata": {
    "execution": {
     "iopub.execute_input": "2024-10-30T19:25:19.764121Z",
     "iopub.status.busy": "2024-10-30T19:25:19.763923Z",
     "iopub.status.idle": "2024-10-30T19:30:15.682185Z",
     "shell.execute_reply": "2024-10-30T19:30:15.681474Z",
     "shell.execute_reply.started": "2024-10-30T19:25:19.764092Z"
    },
    "tags": []
   },
   "outputs": [
    {
     "data": {
      "application/vnd.jupyter.widget-view+json": {
       "model_id": "4804f61e53bf42bba0658e1d1c7ae9d7",
       "version_major": 2,
       "version_minor": 0
      },
      "text/plain": [
       "VBox()"
      ]
     },
     "metadata": {},
     "output_type": "display_data"
    },
    {
     "data": {
      "application/vnd.jupyter.widget-view+json": {
       "model_id": "",
       "version_major": 2,
       "version_minor": 0
      },
      "text/plain": [
       "FloatProgress(value=0.0, bar_style='info', description='Progress:', layout=Layout(height='25px', width='50%'),…"
      ]
     },
     "metadata": {},
     "output_type": "display_data"
    },
    {
     "name": "stderr",
     "output_type": "stream",
     "text": [
      "Exception in thread cell_monitor-42:\n",
      "Traceback (most recent call last):\n",
      "  File \"/mnt/notebook-env/lib/python3.9/threading.py\", line 980, in _bootstrap_inner\n",
      "    self.run()\n",
      "  File \"/mnt/notebook-env/lib/python3.9/threading.py\", line 917, in run\n",
      "    self._target(*self._args, **self._kwargs)\n",
      "  File \"/mnt/notebook-env/lib/python3.9/site-packages/awseditorssparkmonitoringwidget/cellmonitor.py\", line 178, in cell_monitor\n",
      "    job_binned_stages[job_id][stage_id] = all_stages[stage_id]\n",
      "KeyError: 3195\n"
     ]
    },
    {
     "data": {
      "image/png": "[encoded data removed]",
      "text/plain": [
       "<IPython.core.display.Image object>"
      ]
     },
     "metadata": {},
     "output_type": "display_data"
    }
   ],
   "source": [
    "from pyspark.ml.clustering import GaussianMixture\n",
    "from pyspark.ml.evaluation import ClusteringEvaluator\n",
    "import matplotlib.pyplot as plt\n",
    "\n",
    "# Define the range for the number of clusters\n",
    "k_range = range(2, 10)\n",
    "silhouette_scores = []\n",
    "\n",
    "for k in k_range:\n",
    "    gmm = GaussianMixture(featuresCol=\"model_features\", k=k, seed=1)\n",
    "    gmm_model = gmm.fit(model_df)\n",
    "    gmm_predictions = gmm_model.transform(model_df)\n",
    "    \n",
    "    # Evaluate clustering by computing Silhouette score\n",
    "    evaluator = ClusteringEvaluator(featuresCol=\"model_features\", metricName=\"silhouette\", distanceMeasure=\"squaredEuclidean\")\n",
    "    silhouette = evaluator.evaluate(gmm_predictions)\n",
    "    silhouette_scores.append(silhouette)\n",
    "    print(f\"Silhouette Score for k={k}: {silhouette:.4f}\")\n",
    "\n",
    "# Plot Silhouette scores\n",
    "plt.figure(figsize=(8, 5))\n",
    "plt.plot(list(k_range), silhouette_scores, marker='o')\n",
    "plt.title('Silhouette Score vs. Number of Clusters (GMM)')\n",
    "plt.xlabel('Number of Clusters (k)')\n",
    "plt.ylabel('Silhouette Score')\n",
    "plt.grid(True)\n",
    "plt.show()\n",
    "%matplot plt"
   ]
  },
  {
   "cell_type": "markdown",
   "id": "66833102-c28f-4f58-bc0b-44739ee81957",
   "metadata": {},
   "source": [
    "#### 6.2 Fine-Tune the GMM Model with Detailed Parameters"
   ]
  },
  {
   "cell_type": "code",
   "execution_count": 43,
   "id": "5948a28f-16e4-49b3-afbd-443e9daffc83",
   "metadata": {
    "execution": {
     "iopub.execute_input": "2024-10-30T19:30:15.683488Z",
     "iopub.status.busy": "2024-10-30T19:30:15.683291Z",
     "iopub.status.idle": "2024-10-30T19:30:37.645129Z",
     "shell.execute_reply": "2024-10-30T19:30:37.644169Z",
     "shell.execute_reply.started": "2024-10-30T19:30:15.683458Z"
    },
    "tags": []
   },
   "outputs": [
    {
     "data": {
      "application/vnd.jupyter.widget-view+json": {
       "model_id": "47bfbf5e2e6e40049246c1dd36faa904",
       "version_major": 2,
       "version_minor": 0
      },
      "text/plain": [
       "VBox()"
      ]
     },
     "metadata": {},
     "output_type": "display_data"
    },
    {
     "data": {
      "application/vnd.jupyter.widget-view+json": {
       "model_id": "",
       "version_major": 2,
       "version_minor": 0
      },
      "text/plain": [
       "FloatProgress(value=0.0, bar_style='info', description='Progress:', layout=Layout(height='25px', width='50%'),…"
      ]
     },
     "metadata": {},
     "output_type": "display_data"
    },
    {
     "name": "stderr",
     "output_type": "stream",
     "text": [
      "Exception in thread cell_monitor-43:\n",
      "Traceback (most recent call last):\n",
      "  File \"/mnt/notebook-env/lib/python3.9/threading.py\", line 980, in _bootstrap_inner\n",
      "    self.run()\n",
      "  File \"/mnt/notebook-env/lib/python3.9/threading.py\", line 917, in run\n",
      "    self._target(*self._args, **self._kwargs)\n",
      "  File \"/mnt/notebook-env/lib/python3.9/site-packages/awseditorssparkmonitoringwidget/cellmonitor.py\", line 178, in cell_monitor\n",
      "    job_binned_stages[job_id][stage_id] = all_stages[stage_id]\n",
      "KeyError: 5295\n"
     ]
    },
    {
     "name": "stdout",
     "output_type": "stream",
     "text": [
      "Silhouette Score for optimal k=2: 0.6054"
     ]
    }
   ],
   "source": [
    "# Define the optimal number of clusters based on Silhouette score\n",
    "optimal_k = 2  # Replace with the k value that has the highest Silhouette score from the previous step\n",
    "\n",
    "# Initialize the best GMM model\n",
    "best_gmm_model = None\n",
    "highest_silhouette = float(\"-inf\")\n",
    "\n",
    "# Fit the GMM model with the optimal number of clusters\n",
    "gmm = GaussianMixture(featuresCol=\"model_features\", k=optimal_k, seed=1)\n",
    "gmm_model = gmm.fit(model_df)\n",
    "gmm_predictions = gmm_model.transform(model_df)\n",
    "\n",
    "# Evaluate the model\n",
    "evaluator = ClusteringEvaluator(featuresCol=\"model_features\", metricName=\"silhouette\", distanceMeasure=\"squaredEuclidean\")\n",
    "silhouette = evaluator.evaluate(gmm_predictions)\n",
    "\n",
    "\n",
    "if silhouette > highest_silhouette:\n",
    "    highest_silhouette = silhouette\n",
    "    best_gmm_model = gmm_model\n",
    "\n",
    "print(f\"Silhouette Score for optimal k={optimal_k}: {silhouette:.4f}\")"
   ]
  },
  {
   "cell_type": "markdown",
   "id": "c30b8e81-e198-4d36-9b34-6451c4cc6c42",
   "metadata": {},
   "source": [
    "KMeans Model Silhouette is 0.7271781404588695 that is much better than GMM Silhouette score, therefore, we are going to use KMeans Model Cluster for our business evaluation.\n",
    "\n",
    "As we choose KMenas, we are not going to attach the GMM cluster result into combined_df.\n",
    "\n",
    "Though we have selected our better model, it is best practice to validate our model. So, Let's do Model Validation."
   ]
  },
  {
   "cell_type": "markdown",
   "id": "2178bdcc-a8be-4f9d-afe9-391f16b56d7a",
   "metadata": {
    "execution": {
     "iopub.execute_input": "2024-10-30T13:46:59.035180Z",
     "iopub.status.busy": "2024-10-30T13:46:59.034925Z",
     "iopub.status.idle": "2024-10-30T13:46:59.076499Z",
     "shell.execute_reply": "2024-10-30T13:46:59.075859Z",
     "shell.execute_reply.started": "2024-10-30T13:46:59.035152Z"
    }
   },
   "source": [
    "### 7. Model Validation: Checking Clustering Qaulity"
   ]
  },
  {
   "cell_type": "code",
   "execution_count": 49,
   "id": "effc243f-a81e-46e4-9b46-1b560c41833f",
   "metadata": {
    "execution": {
     "iopub.execute_input": "2024-10-30T19:32:58.770131Z",
     "iopub.status.busy": "2024-10-30T19:32:58.769855Z",
     "iopub.status.idle": "2024-10-30T19:32:59.039271Z",
     "shell.execute_reply": "2024-10-30T19:32:59.038251Z",
     "shell.execute_reply.started": "2024-10-30T19:32:58.770091Z"
    },
    "tags": []
   },
   "outputs": [
    {
     "data": {
      "application/vnd.jupyter.widget-view+json": {
       "model_id": "e65ba2d0f8414bf884bdefb96a35969a",
       "version_major": 2,
       "version_minor": 0
      },
      "text/plain": [
       "VBox()"
      ]
     },
     "metadata": {},
     "output_type": "display_data"
    },
    {
     "data": {
      "application/vnd.jupyter.widget-view+json": {
       "model_id": "",
       "version_major": 2,
       "version_minor": 0
      },
      "text/plain": [
       "FloatProgress(value=0.0, bar_style='info', description='Progress:', layout=Layout(height='25px', width='50%'),…"
      ]
     },
     "metadata": {},
     "output_type": "display_data"
    },
    {
     "name": "stdout",
     "output_type": "stream",
     "text": [
      "root\n",
      " |-- CustomerID: string (nullable = true)\n",
      " |-- scaled_Age: double (nullable = true)\n",
      " |-- scaled_Income: double (nullable = true)\n",
      " |-- scaled_total_transactions: double (nullable = true)\n",
      " |-- scaled_total_spent: double (nullable = true)\n",
      " |-- scaled_avg_transaction_value: double (nullable = true)\n",
      " |-- scaled_total_emails_opened: double (nullable = true)\n",
      " |-- scaled_total_clicks: double (nullable = true)\n",
      " |-- scaled_total_points_accumulated: double (nullable = true)\n",
      " |-- scaled_total_pages_viewed: double (nullable = true)\n",
      " |-- scaled_avg_session_duration: double (nullable = true)\n",
      " |-- scaled_total_sessions: double (nullable = true)\n",
      " |-- scaled_LoyaltyProgramStatus_encoded: double (nullable = true)\n",
      " |-- scaled_Education_encoded: double (nullable = true)\n",
      " |-- scaled_GenderIndex: double (nullable = true)\n",
      " |-- scaled_MarriageStatusIndex: double (nullable = true)\n",
      " |-- scaled_LocationIndex: double (nullable = true)\n",
      " |-- scaled_recency: double (nullable = true)\n",
      " |-- scaled_engagement_score: double (nullable = true)\n",
      " |-- scaled_behavioral_score: double (nullable = true)\n",
      " |-- scaled_spend_engagement_interaction: double (nullable = true)\n",
      " |-- scaled_LTV: double (nullable = true)\n",
      " |-- Gender_OHE_0: double (nullable = true)\n",
      " |-- Gender_OHE_1: double (nullable = true)\n",
      " |-- Gender_OHE_2: double (nullable = true)\n",
      " |-- MarriageStatus_OHE_0: double (nullable = true)\n",
      " |-- MarriageStatus_OHE_1: double (nullable = true)\n",
      " |-- MarriageStatus_OHE_2: double (nullable = true)\n",
      " |-- MarriageStatus_OHE_3: double (nullable = true)\n",
      " |-- Location_OHE_0: double (nullable = true)\n",
      " |-- Location_OHE_1: double (nullable = true)\n",
      " |-- Location_OHE_2: double (nullable = true)\n",
      " |-- Location_OHE_3: double (nullable = true)\n",
      " |-- Location_OHE_4: double (nullable = true)\n",
      " |-- Age: long (nullable = true)\n",
      " |-- Gender: string (nullable = true)\n",
      " |-- Location: string (nullable = true)\n",
      " |-- Education: string (nullable = true)\n",
      " |-- Income: double (nullable = true)\n",
      " |-- MarriageStatus: string (nullable = true)\n",
      " |-- LoyaltyStatus: string (nullable = true)\n",
      " |-- total_transactions: long (nullable = true)\n",
      " |-- total_spent: double (nullable = true)\n",
      " |-- avg_transaction_value: double (nullable = true)\n",
      " |-- last_purchase_date: date (nullable = true)\n",
      " |-- total_emails_opened: long (nullable = true)\n",
      " |-- total_clicks: long (nullable = true)\n",
      " |-- total_points_accumulated: long (nullable = true)\n",
      " |-- total_pages_viewed: long (nullable = true)\n",
      " |-- avg_session_duration: double (nullable = true)\n",
      " |-- total_sessions: long (nullable = true)\n",
      " |-- KMeans_Clusters: integer (nullable = true)"
     ]
    }
   ],
   "source": [
    "scaled_df = scaled_df.join(combined_df_with_clusters, \"CustomerID\", \"left\")"
   ]
  },
  {
   "cell_type": "code",
   "execution_count": 51,
   "id": "b5f51a46-8f1e-48bf-92eb-b76b7d6c6436",
   "metadata": {
    "execution": {
     "iopub.execute_input": "2024-10-30T19:34:17.264286Z",
     "iopub.status.busy": "2024-10-30T19:34:17.264031Z",
     "iopub.status.idle": "2024-10-30T19:34:36.693057Z",
     "shell.execute_reply": "2024-10-30T19:34:36.692266Z",
     "shell.execute_reply.started": "2024-10-30T19:34:17.264254Z"
    },
    "tags": []
   },
   "outputs": [
    {
     "data": {
      "application/vnd.jupyter.widget-view+json": {
       "model_id": "b39fb5e2970148a6a0a5978bee169d6e",
       "version_major": 2,
       "version_minor": 0
      },
      "text/plain": [
       "VBox()"
      ]
     },
     "metadata": {},
     "output_type": "display_data"
    },
    {
     "data": {
      "application/vnd.jupyter.widget-view+json": {
       "model_id": "",
       "version_major": 2,
       "version_minor": 0
      },
      "text/plain": [
       "FloatProgress(value=0.0, bar_style='info', description='Progress:', layout=Layout(height='25px', width='50%'),…"
      ]
     },
     "metadata": {},
     "output_type": "display_data"
    },
    {
     "name": "stdout",
     "output_type": "stream",
     "text": [
      "Davies-Bouldin Score: 0.7171\n",
      "Calinski-Harabasz Score: 16973.8232"
     ]
    }
   ],
   "source": [
    "# Import necessary libraries\n",
    "import pandas as pd\n",
    "from sklearn.metrics import davies_bouldin_score, calinski_harabasz_score\n",
    "\n",
    "validation_df = scaled_df.select(\n",
    "    'scaled_total_spent',\n",
    "    'scaled_avg_transaction_value',\n",
    "    'scaled_total_points_accumulated',\n",
    "    'scaled_LoyaltyProgramStatus_encoded',\n",
    "    'scaled_engagement_score',\n",
    "    'scaled_behavioral_score',\n",
    "    'scaled_LTV',\n",
    "    'KMeans_Clusters'\n",
    ").dropDuplicates()\n",
    "\n",
    "# Convert to Pandas DataFrame\n",
    "validation_pd = validation_df.toPandas()\n",
    "\n",
    "# Ensure 'KMeans_Clusters' column is unique\n",
    "validation_pd = validation_pd.loc[:, ~validation_pd.columns.duplicated()]\n",
    "\n",
    "# Extract features and labels\n",
    "X = validation_pd[\n",
    "    [\n",
    "        'scaled_total_spent',\n",
    "        'scaled_avg_transaction_value',\n",
    "        'scaled_total_points_accumulated',\n",
    "        'scaled_LoyaltyProgramStatus_encoded',\n",
    "        'scaled_engagement_score',\n",
    "        'scaled_behavioral_score',\n",
    "        'scaled_LTV'\n",
    "    ]\n",
    "]\n",
    "y = validation_pd['KMeans_Clusters']\n",
    "\n",
    "# Compute Davies-Bouldin Score\n",
    "db_score = davies_bouldin_score(X, y)\n",
    "print(f\"Davies-Bouldin Score: {db_score:.4f}\")\n",
    "\n",
    "# Compute Calinski-Harabasz Score\n",
    "ch_score = calinski_harabasz_score(X, y)\n",
    "print(f\"Calinski-Harabasz Score: {ch_score:.4f}\")"
   ]
  },
  {
   "cell_type": "markdown",
   "id": "cf7c32a2-619c-464f-a0bd-7ab0f14ef08c",
   "metadata": {
    "execution": {
     "iopub.execute_input": "2024-10-30T19:30:38.421068Z",
     "iopub.status.busy": "2024-10-30T19:30:38.420866Z",
     "iopub.status.idle": "2024-10-30T19:30:38.478109Z",
     "shell.execute_reply": "2024-10-30T19:30:38.476866Z",
     "shell.execute_reply.started": "2024-10-30T19:30:38.421038Z"
    },
    "tags": []
   },
   "source": [
    "combined_df_with_clusters.printSchema()"
   ]
  },
  {
   "cell_type": "markdown",
   "id": "4f7bc0f9-f249-49cf-b3ec-b7796b227edd",
   "metadata": {},
   "source": [
    "**Davies-Bouldin Index**\n",
    "\n",
    "- The Davies-Bouldin Index measures the average similarity ratio of each cluster with its most similar cluster. Lower values indicate better clustering, as it means clusters are more distinct from each other.\n",
    "\n",
    "- A score of 0.7171 suggests our clusters are well-defined and distinct. We can compare this with benchmarks or past results to see if improvement is possible. Overall, the current score is quite acceptable.\n",
    "\n",
    "**Calinski-Harabasz Index**\n",
    "\n",
    "- The Calinski-Harabasz Index, also known as the Variance Ratio Criterion, evaluates the ratio of the sum of between-cluster dispersion to within-cluster dispersion. Higher values indicate better-defined clusters.\n",
    "\n",
    "- A score of 16973.8232 indicates that the clusters are well-defined and distinct from each other. Higher scores are better, so this suggests strong clustering performance.\n",
    "\n",
    "**Overall Evaluation**\n",
    "\n",
    "- The combination of a relatively low Davies-Bouldin Score and a high Calinski-Harabasz Score suggests that your KMeans clustering model is performing well. The clusters are both compact and well-separated, indicating a good fit for the data."
   ]
  },
  {
   "cell_type": "markdown",
   "id": "619ba6cd-12ad-4bc8-a496-30a284c429e4",
   "metadata": {},
   "source": [
    "### 8. Customer Characteristics of each Cluster"
   ]
  },
  {
   "cell_type": "markdown",
   "id": "bb21c347-7b5a-4568-a7a7-c674a25d40a6",
   "metadata": {},
   "source": [
    "#### 8.1 Characteristics of Numeric features"
   ]
  },
  {
   "cell_type": "markdown",
   "id": "5e363d2e-bc5a-4d81-b264-3ac2f8caaa26",
   "metadata": {},
   "source": [
    "- **Cluster Size**"
   ]
  },
  {
   "cell_type": "code",
   "execution_count": 56,
   "id": "5b4ac0f8-7af5-4c4d-8bc9-22a1ca83d040",
   "metadata": {
    "execution": {
     "iopub.execute_input": "2024-10-30T19:52:47.147709Z",
     "iopub.status.busy": "2024-10-30T19:52:47.146979Z",
     "iopub.status.idle": "2024-10-30T19:53:04.552677Z",
     "shell.execute_reply": "2024-10-30T19:53:04.551991Z",
     "shell.execute_reply.started": "2024-10-30T19:52:47.147658Z"
    },
    "tags": []
   },
   "outputs": [
    {
     "data": {
      "application/vnd.jupyter.widget-view+json": {
       "model_id": "8dc6dde2eaef434faa6ad6ab8b1f55d0",
       "version_major": 2,
       "version_minor": 0
      },
      "text/plain": [
       "VBox()"
      ]
     },
     "metadata": {},
     "output_type": "display_data"
    },
    {
     "data": {
      "application/vnd.jupyter.widget-view+json": {
       "model_id": "",
       "version_major": 2,
       "version_minor": 0
      },
      "text/plain": [
       "FloatProgress(value=0.0, bar_style='info', description='Progress:', layout=Layout(height='25px', width='50%'),…"
      ]
     },
     "metadata": {},
     "output_type": "display_data"
    },
    {
     "name": "stdout",
     "output_type": "stream",
     "text": [
      "KMeans Cluster Sizes:\n",
      "+---------------+-----+\n",
      "|KMeans_Clusters|count|\n",
      "+---------------+-----+\n",
      "|              1| 3694|\n",
      "|              0| 6306|\n",
      "+---------------+-----+"
     ]
    }
   ],
   "source": [
    "from pyspark.sql.functions import count\n",
    "\n",
    "cluster_sizes = combined_df_with_clusters.groupBy('KMeans_Clusters').agg(count('*').alias('count'))\n",
    "\n",
    "print(\"KMeans Cluster Sizes:\")\n",
    "cluster_sizes.show()"
   ]
  },
  {
   "cell_type": "markdown",
   "id": "b4dc573b-ba76-4ff5-965a-6a8a9a8bca4f",
   "metadata": {},
   "source": [
    "- **Difference between Main Features**"
   ]
  },
  {
   "cell_type": "code",
   "execution_count": 66,
   "id": "11891b35-ae77-4940-8d8d-483c6c8d1b83",
   "metadata": {
    "execution": {
     "iopub.execute_input": "2024-10-30T20:05:36.932563Z",
     "iopub.status.busy": "2024-10-30T20:05:36.932309Z",
     "iopub.status.idle": "2024-10-30T20:06:00.394040Z",
     "shell.execute_reply": "2024-10-30T20:06:00.393088Z",
     "shell.execute_reply.started": "2024-10-30T20:05:36.932531Z"
    },
    "tags": []
   },
   "outputs": [
    {
     "data": {
      "application/vnd.jupyter.widget-view+json": {
       "model_id": "48e3578017e549acbc451b6e3e9819fc",
       "version_major": 2,
       "version_minor": 0
      },
      "text/plain": [
       "VBox()"
      ]
     },
     "metadata": {},
     "output_type": "display_data"
    },
    {
     "data": {
      "application/vnd.jupyter.widget-view+json": {
       "model_id": "",
       "version_major": 2,
       "version_minor": 0
      },
      "text/plain": [
       "FloatProgress(value=0.0, bar_style='info', description='Progress:', layout=Layout(height='25px', width='50%'),…"
      ]
     },
     "metadata": {},
     "output_type": "display_data"
    },
    {
     "name": "stdout",
     "output_type": "stream",
     "text": [
      "Comparison Table between Cluster 0 and Cluster 1:\n",
      "                        mean_Age   mean_Income  mean_total_spent  \\\n",
      "KMeans_Clusters                                                    \n",
      "1                      44.303194  63292.663086      25159.847204   \n",
      "0                      44.167777  60372.694481      11907.434123   \n",
      "Percentage Difference   0.306598      4.836572        111.295288   \n",
      "\n",
      "                       mean_avg_transaction_value  mean_total_transactions  \\\n",
      "KMeans_Clusters                                                              \n",
      "1                                      833.010459                30.301841   \n",
      "0                                      400.217606                29.823184   \n",
      "Percentage Difference                  108.139384                 1.604981   \n",
      "\n",
      "                       mean_total_emails_opened  mean_total_clicks  \\\n",
      "KMeans_Clusters                                                      \n",
      "1                                    875.828370         456.468868   \n",
      "0                                    318.548842         111.723121   \n",
      "Percentage Difference                174.943197         308.571534   \n",
      "\n",
      "                       mean_total_pages_viewed  avg_session_duration  \\\n",
      "KMeans_Clusters                                                        \n",
      "1                                  1297.896318             65.017997   \n",
      "0                                   442.970029             22.229667   \n",
      "Percentage Difference               192.998676            192.482997   \n",
      "\n",
      "                       mean_total_points_accumulated  \n",
      "KMeans_Clusters                                       \n",
      "1                                       19973.994586  \n",
      "0                                        4865.368696  \n",
      "Percentage Difference                     310.534038"
     ]
    }
   ],
   "source": [
    "from pyspark.sql import functions as F\n",
    "\n",
    "pd.set_option('display.max_columns', None)\n",
    "\n",
    "# Calculate mean values for each cluster\n",
    "cluster_profiles = combined_df_with_clusters.groupBy('KMeans_Clusters').agg(\n",
    "    F.mean('Age').alias('mean_Age'),\n",
    "    F.mean('Income').alias('mean_Income'),\n",
    "    F.mean('total_spent').alias('mean_total_spent'),\n",
    "    F.mean('avg_transaction_value').alias('mean_avg_transaction_value'),\n",
    "    F.mean('total_transactions').alias('mean_total_transactions'),\n",
    "    F.mean('total_emails_opened').alias('mean_total_emails_opened'),\n",
    "    F.mean('total_clicks').alias('mean_total_clicks'),\n",
    "    F.mean('total_pages_viewed').alias('mean_total_pages_viewed'),\n",
    "    F.mean('avg_session_duration').alias('avg_session_duration'),\n",
    "    F.mean('total_points_accumulated').alias('mean_total_points_accumulated')\n",
    ")\n",
    "\n",
    "# Convert to Pandas DataFrame\n",
    "cluster_profiles_pd = cluster_profiles.toPandas()\n",
    "\n",
    "# Create a comparison table for clusters 0 and 1\n",
    "comparison_table = cluster_profiles_pd.loc[cluster_profiles_pd['KMeans_Clusters'].isin([0, 1])].set_index('KMeans_Clusters')\n",
    "\n",
    "# Calculate percentage difference between cluster 1 and cluster 0\n",
    "percentage_diff = ((comparison_table.loc[1] - comparison_table.loc[0]) / comparison_table.loc[0]).abs() * 100\n",
    "comparison_table.loc['Percentage Difference'] = percentage_diff\n",
    "\n",
    "print(\"Comparison Table between Cluster 0 and Cluster 1:\")\n",
    "print(comparison_table)"
   ]
  },
  {
   "cell_type": "markdown",
   "id": "933e33e2-ed80-4e44-9fb6-c550b05c5543",
   "metadata": {},
   "source": [
    "- **Box Plots for Key Features**"
   ]
  },
  {
   "cell_type": "code",
   "execution_count": 67,
   "id": "1e1fa50c-3de5-427a-9249-f6d19f53033b",
   "metadata": {
    "execution": {
     "iopub.execute_input": "2024-10-30T20:10:12.957897Z",
     "iopub.status.busy": "2024-10-30T20:10:12.957532Z",
     "iopub.status.idle": "2024-10-30T20:10:32.421831Z",
     "shell.execute_reply": "2024-10-30T20:10:32.421126Z",
     "shell.execute_reply.started": "2024-10-30T20:10:12.957850Z"
    },
    "tags": []
   },
   "outputs": [
    {
     "data": {
      "application/vnd.jupyter.widget-view+json": {
       "model_id": "3c752dc2e81a4d279494361626483c4f",
       "version_major": 2,
       "version_minor": 0
      },
      "text/plain": [
       "VBox()"
      ]
     },
     "metadata": {},
     "output_type": "display_data"
    },
    {
     "data": {
      "application/vnd.jupyter.widget-view+json": {
       "model_id": "",
       "version_major": 2,
       "version_minor": 0
      },
      "text/plain": [
       "FloatProgress(value=0.0, bar_style='info', description='Progress:', layout=Layout(height='25px', width='50%'),…"
      ]
     },
     "metadata": {},
     "output_type": "display_data"
    },
    {
     "data": {
      "image/png": "[encoded data removed]",
      "text/plain": [
       "<IPython.core.display.Image object>"
      ]
     },
     "metadata": {},
     "output_type": "display_data"
    }
   ],
   "source": [
    "from pyspark.sql import functions as F\n",
    "import matplotlib.pyplot as plt\n",
    "import seaborn as sns\n",
    "\n",
    "# Select relevant columns and convert to Pandas DataFrame\n",
    "plot_data = combined_df_with_clusters.select(\n",
    "    'KMeans_Clusters',\n",
    "    'total_spent',\n",
    "    'avg_transaction_value',\n",
    "    'total_points_accumulated',\n",
    "    'Age',\n",
    "    'Income',\n",
    "    'total_transactions',\n",
    "    'total_emails_opened',\n",
    "    'total_clicks',\n",
    "    'total_pages_viewed',\n",
    "    'avg_session_duration'\n",
    ").toPandas()\n",
    "\n",
    "# Create box plots\n",
    "fig, axs = plt.subplots(5, 2, figsize=(14, 20))\n",
    "sns.boxplot(x='KMeans_Clusters', y='total_spent', data=plot_data, ax=axs[0, 0])\n",
    "sns.boxplot(x='KMeans_Clusters', y='avg_transaction_value', data=plot_data, ax=axs[0, 1])\n",
    "sns.boxplot(x='KMeans_Clusters', y='total_points_accumulated', data=plot_data, ax=axs[1, 0])\n",
    "sns.boxplot(x='KMeans_Clusters', y='Age', data=plot_data, ax=axs[1, 1])\n",
    "sns.boxplot(x='KMeans_Clusters', y='Income', data=plot_data, ax=axs[2, 0])\n",
    "sns.boxplot(x='KMeans_Clusters', y='total_transactions', data=plot_data, ax=axs[2, 1])\n",
    "sns.boxplot(x='KMeans_Clusters', y='total_emails_opened', data=plot_data, ax=axs[3, 0])\n",
    "sns.boxplot(x='KMeans_Clusters', y='total_clicks', data=plot_data, ax=axs[3, 1])\n",
    "sns.boxplot(x='KMeans_Clusters', y='total_pages_viewed', data=plot_data, ax=axs[4, 0])\n",
    "sns.boxplot(x='KMeans_Clusters', y='avg_session_duration', data=plot_data, ax=axs[4, 1])\n",
    "\n",
    "plt.tight_layout()\n",
    "plt.show()\n",
    "%matplot plt"
   ]
  },
  {
   "cell_type": "markdown",
   "id": "b3307238-3dfb-485a-9679-a379183cae62",
   "metadata": {},
   "source": [
    "#### 8.2 Characteristics of Categorical features"
   ]
  },
  {
   "cell_type": "markdown",
   "id": "2b60ae57-6685-4712-a9bd-15c811a660da",
   "metadata": {
    "tags": []
   },
   "source": [
    "- **Education**"
   ]
  },
  {
   "cell_type": "code",
   "execution_count": 68,
   "id": "15fcbea0-0d2a-4ece-a499-38e7d9879409",
   "metadata": {
    "execution": {
     "iopub.execute_input": "2024-10-30T20:16:17.292921Z",
     "iopub.status.busy": "2024-10-30T20:16:17.292666Z",
     "iopub.status.idle": "2024-10-30T20:16:38.758018Z",
     "shell.execute_reply": "2024-10-30T20:16:38.757003Z",
     "shell.execute_reply.started": "2024-10-30T20:16:17.292889Z"
    }
   },
   "outputs": [
    {
     "data": {
      "application/vnd.jupyter.widget-view+json": {
       "model_id": "7f3425b620d94814bbf84f9fb3274c4e",
       "version_major": 2,
       "version_minor": 0
      },
      "text/plain": [
       "VBox()"
      ]
     },
     "metadata": {},
     "output_type": "display_data"
    },
    {
     "data": {
      "application/vnd.jupyter.widget-view+json": {
       "model_id": "",
       "version_major": 2,
       "version_minor": 0
      },
      "text/plain": [
       "FloatProgress(value=0.0, bar_style='info', description='Progress:', layout=Layout(height='25px', width='50%'),…"
      ]
     },
     "metadata": {},
     "output_type": "display_data"
    },
    {
     "name": "stderr",
     "output_type": "stream",
     "text": [
      "Exception in thread cell_monitor-68:\n",
      "Traceback (most recent call last):\n",
      "  File \"/mnt/notebook-env/lib/python3.9/threading.py\", line 980, in _bootstrap_inner\n",
      "    self.run()\n",
      "  File \"/mnt/notebook-env/lib/python3.9/threading.py\", line 917, in run\n",
      "    self._target(*self._args, **self._kwargs)\n",
      "  File \"/mnt/notebook-env/lib/python3.9/site-packages/awseditorssparkmonitoringwidget/cellmonitor.py\", line 178, in cell_monitor\n",
      "    job_binned_stages[job_id][stage_id] = all_stages[stage_id]\n",
      "KeyError: 5495\n"
     ]
    },
    {
     "name": "stdout",
     "output_type": "stream",
     "text": [
      "Cluster Demographics (Education):\n",
      "+---------------+------------------+------------------+-------------------+--------------------+--------------------+\n",
      "|KMeans_Clusters|          Bachelor|       High School|             Master|               Other|                 PhD|\n",
      "+---------------+------------------+------------------+-------------------+--------------------+--------------------+\n",
      "|              1|0.4095831077422848| 0.273957769355712|0.21115322144017326|0.053871142393069844|0.051434759068760154|\n",
      "|              0|0.3985093561687282|0.3066920393276245| 0.1983824928639391| 0.05011100539169045| 0.04630510624801776|\n",
      "+---------------+------------------+------------------+-------------------+--------------------+--------------------+"
     ]
    }
   ],
   "source": [
    "from pyspark.sql import functions as F\n",
    "\n",
    "# Calculate the count of each Education level within each KMeans_Cluster\n",
    "education_counts = combined_df_with_clusters.groupBy('KMeans_Clusters', 'Education').count()\n",
    "\n",
    "# Pivot the table to get a crosstab-like structure\n",
    "cluster_demographics = education_counts.groupBy('KMeans_Clusters').pivot('Education').agg(F.first('count'))\n",
    "\n",
    "# Normalize the counts by the total number of entries in each cluster\n",
    "total_counts = education_counts.groupBy('KMeans_Clusters').agg(F.sum('count').alias('total'))\n",
    "cluster_demographics = cluster_demographics.join(total_counts, on='KMeans_Clusters')\n",
    "for col in cluster_demographics.columns:\n",
    "    if col not in ['KMeans_Clusters', 'total']:\n",
    "        cluster_demographics = cluster_demographics.withColumn(col, F.col(col) / F.col('total'))\n",
    "\n",
    "# Drop the total column as it's no longer needed\n",
    "cluster_demographics = cluster_demographics.drop('total')\n",
    "\n",
    "# Show the result\n",
    "print(\"Cluster Demographics (Education):\")\n",
    "cluster_demographics.show()"
   ]
  },
  {
   "cell_type": "markdown",
   "id": "401dbde0-ae1f-4120-8f5e-29f466225389",
   "metadata": {},
   "source": [
    "- **Loyalty Status**"
   ]
  },
  {
   "cell_type": "code",
   "execution_count": 69,
   "id": "753e61d4-2c7c-4f51-9e33-1d98ea1ba4a4",
   "metadata": {
    "execution": {
     "iopub.execute_input": "2024-10-30T20:18:31.626606Z",
     "iopub.status.busy": "2024-10-30T20:18:31.626350Z",
     "iopub.status.idle": "2024-10-30T20:18:49.043158Z",
     "shell.execute_reply": "2024-10-30T20:18:49.041569Z",
     "shell.execute_reply.started": "2024-10-30T20:18:31.626573Z"
    }
   },
   "outputs": [
    {
     "data": {
      "application/vnd.jupyter.widget-view+json": {
       "model_id": "164b9ec29e3f4b7ea7a1c15b7d6e9d96",
       "version_major": 2,
       "version_minor": 0
      },
      "text/plain": [
       "VBox()"
      ]
     },
     "metadata": {},
     "output_type": "display_data"
    },
    {
     "data": {
      "application/vnd.jupyter.widget-view+json": {
       "model_id": "",
       "version_major": 2,
       "version_minor": 0
      },
      "text/plain": [
       "FloatProgress(value=0.0, bar_style='info', description='Progress:', layout=Layout(height='25px', width='50%'),…"
      ]
     },
     "metadata": {},
     "output_type": "display_data"
    },
    {
     "name": "stdout",
     "output_type": "stream",
     "text": [
      "Cluster Demographics (LoyaltyStatus):\n",
      "+---------------+--------------------+-------------------+-------------------+--------------------+\n",
      "|KMeans_Clusters|               Basic|             Bronze|               Gold|              Silver|\n",
      "+---------------+--------------------+-------------------+-------------------+--------------------+\n",
      "|              1|2.707092582566324E-4|0.25717379534380075|0.20682187330806714|  0.5357336220898755|\n",
      "|              0|   0.718046305106248|0.27656200444021567|               NULL|0.005391690453536315|\n",
      "+---------------+--------------------+-------------------+-------------------+--------------------+"
     ]
    }
   ],
   "source": [
    "from pyspark.sql import functions as F\n",
    "\n",
    "# Calculate the count of each LoyaltyStatus within each KMeans_Cluster\n",
    "loyalty_counts = combined_df_with_clusters.groupBy('KMeans_Clusters', 'LoyaltyStatus').count()\n",
    "\n",
    "# Pivot the table to get a crosstab-like structure\n",
    "cluster_demographics = loyalty_counts.groupBy('KMeans_Clusters').pivot('LoyaltyStatus').agg(F.first('count'))\n",
    "\n",
    "# Normalize the counts by the total number of entries in each cluster\n",
    "total_counts = loyalty_counts.groupBy('KMeans_Clusters').agg(F.sum('count').alias('total'))\n",
    "cluster_demographics = cluster_demographics.join(total_counts, on='KMeans_Clusters')\n",
    "for col in cluster_demographics.columns:\n",
    "    if col not in ['KMeans_Clusters', 'total']:\n",
    "        cluster_demographics = cluster_demographics.withColumn(col, F.col(col) / F.col('total'))\n",
    "\n",
    "# Drop the total column as it's no longer needed\n",
    "cluster_demographics = cluster_demographics.drop('total')\n",
    "\n",
    "# Show the result\n",
    "print(\"Cluster Demographics (LoyaltyStatus):\")\n",
    "cluster_demographics.show()"
   ]
  },
  {
   "cell_type": "markdown",
   "id": "fb13c92d-81ae-465d-a56e-2b5b5000a374",
   "metadata": {},
   "source": [
    "- **Preferred Categories**"
   ]
  },
  {
   "cell_type": "code",
   "execution_count": 70,
   "id": "da985fe6-d3df-4a8b-8491-91e6ebfdbfc8",
   "metadata": {
    "execution": {
     "iopub.execute_input": "2024-10-30T20:21:10.240501Z",
     "iopub.status.busy": "2024-10-30T20:21:10.240246Z",
     "iopub.status.idle": "2024-10-30T20:21:31.713367Z",
     "shell.execute_reply": "2024-10-30T20:21:31.712575Z",
     "shell.execute_reply.started": "2024-10-30T20:21:10.240470Z"
    }
   },
   "outputs": [
    {
     "data": {
      "application/vnd.jupyter.widget-view+json": {
       "model_id": "3c40448df9244d71a9352d3570eae40c",
       "version_major": 2,
       "version_minor": 0
      },
      "text/plain": [
       "VBox()"
      ]
     },
     "metadata": {},
     "output_type": "display_data"
    },
    {
     "data": {
      "application/vnd.jupyter.widget-view+json": {
       "model_id": "",
       "version_major": 2,
       "version_minor": 0
      },
      "text/plain": [
       "FloatProgress(value=0.0, bar_style='info', description='Progress:', layout=Layout(height='25px', width='50%'),…"
      ]
     },
     "metadata": {},
     "output_type": "display_data"
    },
    {
     "name": "stdout",
     "output_type": "stream",
     "text": [
      "Preferred Product Categories per Cluster:\n",
      "+---------------+-------------------+-------------------+-------------------+-------------------+-------------------+\n",
      "|KMeans_Clusters|              Books|           Clothing|        Electronics|     Home & Kitchen|             Sports|\n",
      "+---------------+-------------------+-------------------+-------------------+-------------------+-------------------+\n",
      "|              1|0.19279045874838074|0.19850806271496851|0.20642337070621342|0.20058962790905435|0.20168847992138295|\n",
      "|              0|0.20189827985005185| 0.2016430489458432|0.19788371041926994|0.19838353760667854| 0.2001914231781565|\n",
      "+---------------+-------------------+-------------------+-------------------+-------------------+-------------------+"
     ]
    }
   ],
   "source": [
    "from pyspark.sql import functions as F\n",
    "\n",
    "# Join transactions_df with combined_df_with_clusters on 'CustomerID'\n",
    "purchase_patterns = transactions_df.join(combined_df_with_clusters.select('CustomerID', 'KMeans_Clusters'), on='CustomerID')\n",
    "\n",
    "# Calculate the count of each ProductCategory within each KMeans_Cluster\n",
    "category_counts = purchase_patterns.groupBy('KMeans_Clusters', 'ProductCategory').count()\n",
    "\n",
    "# Pivot the table to get a crosstab-like structure\n",
    "preferred_categories = category_counts.groupBy('KMeans_Clusters').pivot('ProductCategory').agg(F.first('count'))\n",
    "\n",
    "# Normalize the counts by the total number of entries in each cluster\n",
    "total_counts = category_counts.groupBy('KMeans_Clusters').agg(F.sum('count').alias('total'))\n",
    "preferred_categories_normalized = preferred_categories.join(total_counts, on='KMeans_Clusters')\n",
    "for col in preferred_categories_normalized.columns:\n",
    "    if col not in ['KMeans_Clusters', 'total']:\n",
    "        preferred_categories_normalized = preferred_categories_normalized.withColumn(col, F.col(col) / F.col('total'))\n",
    "\n",
    "# Drop the total column as it's no longer needed\n",
    "preferred_categories_normalized = preferred_categories_normalized.drop('total')\n",
    "\n",
    "# Show the result\n",
    "print(\"Preferred Product Categories per Cluster:\")\n",
    "preferred_categories_normalized.show()"
   ]
  },
  {
   "cell_type": "markdown",
   "id": "598a6c0d-2cd6-41c1-80bf-0d09ee8810d5",
   "metadata": {},
   "source": [
    "### 9. Business Interpretation"
   ]
  },
  {
   "cell_type": "markdown",
   "id": "38a178ea-595b-4092-8da3-b19a789a5f2a",
   "metadata": {},
   "source": [
    "#### 9.1 Cluster Profile"
   ]
  },
  {
   "cell_type": "markdown",
   "id": "3d3171ab-f66a-4be2-85d4-fd279f3d6d34",
   "metadata": {},
   "source": [
    "**Cluster 0: Upper Tier**\n",
    "\n",
    "This cluster represents our upper-tier customers. They are slightly older and have marginally higher incomes, but these are not the defining factors.\n",
    "\n",
    "Key Characteristics:\n",
    "\n",
    "- Loyalty: Predominantly consists of loyal customers in higher loyalty tiers (Silver, Bronze, Gold).\n",
    "\n",
    "- Engagement: Highly engaged, with higher spending, average transaction values, and total points accumulated.\n",
    "\n",
    "\n",
    "**Cluster 1: Lower Tier**\n",
    "\n",
    "This cluster is our lower-tier segment, comprising the majority of our customer base.\n",
    "\n",
    "Key Characteristics:\n",
    "\n",
    "- Loyalty: Primarily consists of Basic loyalty members, indicating low engagement and loyalty.\n",
    "\n",
    "- Engagement: Lower spending, fewer transactions, and minimal engagement.\n",
    "\n",
    "\n",
    "**Purchasing Pattern**\n",
    "\n",
    "- There is no significant difference purchasing behavior between the two clusters."
   ]
  },
  {
   "cell_type": "markdown",
   "id": "f4e3b558-2611-4e5c-b1d7-1c4e9878f37d",
   "metadata": {},
   "source": [
    "#### 9.2 Recommendation"
   ]
  },
  {
   "cell_type": "markdown",
   "id": "e90a697f-596b-45c3-bdc5-ad18dce4910c",
   "metadata": {},
   "source": [
    "**For Upper Tier (Cluster 0)**\n",
    "\n",
    "- **Value Loyalty**: Recognize and reward loyal customers with exclusive packages or plans to maintain their engagement and satisfaction.\n",
    "\n",
    "- **Personalized Offers**: Provide tailored offers and experiences to enhance their shopping journey and encourage continued loyalty.\n",
    "\n",
    "**For Lower Tier (Cluster 1)**\n",
    "\n",
    "- **Engagement Campaigns**: Implement persuasive marketing campaigns to activate and engage this segment. Focus on promotions that encourage frequent purchases.\n",
    "\n",
    "- **Loyalty Program Incentives**: Develop strategies to move these customers up the loyalty ladder. Offer incentives for increased engagement and spending.\n",
    "\n",
    "- **Promotional Plans**: Design attractive promotional plans that appeal to this segment's needs and preferences, aiming to convert them into more loyal customers."
   ]
  },
  {
   "cell_type": "markdown",
   "id": "e9e8c114-6603-4c91-af80-b19e50bf8e7f",
   "metadata": {},
   "source": [
    "#### 9.4 Strategic Focus"
   ]
  },
  {
   "cell_type": "markdown",
   "id": "6e7a8a8e-8306-4adf-bea2-6dc96161f3e5",
   "metadata": {},
   "source": [
    "- **Priority**: While valuing our loyal customers is crucial, the primary focus should be on activating and engaging the lower-tier segment, as they represent a significant portion of our customer base.\n",
    "\n",
    "- **Goal**: Transform lower-tier customers into loyal, engaged customers through targeted strategies, ultimately increasing overall customer lifetime value and business growth."
   ]
  },
  {
   "cell_type": "markdown",
   "id": "d104b3d6-a935-4251-a509-b94264cf2260",
   "metadata": {},
   "source": [
    "### 10. Discussion of Limitations"
   ]
  },
  {
   "cell_type": "markdown",
   "id": "5a2bdb74-b822-4097-a88e-f38fb7173e3d",
   "metadata": {},
   "source": [
    "- **Feature Selection Constraints:** While high correlation was used for feature selection, some potentially important features with lower correlation might have been excluded, possibly affecting the segmentation quality.\n",
    "\n",
    "- **Model Assumptions:** KMeans assumes spherical clusters and may not perform well if the actual customer segments have different shapes or densities.\n",
    "\n",
    "- **Temporal Dynamics:** The analysis is based on historical data, which may not account for dynamic changes in customer behavior over time."
   ]
  },
  {
   "cell_type": "markdown",
   "id": "3390846f-3711-49a2-a07d-e37cbb19bb43",
   "metadata": {},
   "source": [
    "******"
   ]
  },
  {
   "cell_type": "markdown",
   "id": "945d05f6-ce45-4f1f-8a5d-b04cdab1545e",
   "metadata": {},
   "source": [
    "***The Customer Segmentation Model has been successfully completed. The following appendix does not introduce new technologies or methods; instead, it focuses on analyzing high-risk customers.***"
   ]
  },
  {
   "cell_type": "markdown",
   "id": "4bf090a0-45f5-4818-ad5a-3a3882385083",
   "metadata": {},
   "source": [
    "**********"
   ]
  },
  {
   "cell_type": "markdown",
   "id": "a8d4df7a-6283-4130-a8ef-307eb1904ea6",
   "metadata": {},
   "source": [
    "### 11. Appendix: Exploring High-Risk Customers"
   ]
  },
  {
   "cell_type": "markdown",
   "id": "340f9e38-ca3b-4679-9907-d6ba5afaa46e",
   "metadata": {},
   "source": [
    "In the above model, statistically, we found that segementing into 2 clusters is the optimal segementation, therefore, we do in-depth analysis based on 2 clusters.\n",
    "\n",
    "As you may be aware of, the number of customers in lower-tier customers is much more than in the upper-tier. It means we have a lot ot lower-tier customers when we do segementation into two clusters.\n",
    "\n",
    "Therefore, it would be better if we could explore the most risky customers from the lower-tier clusters.\n",
    "\n",
    "Luckily, when we explore different clusters, we found that 3 cluster also provide an acceptable result though it is not as good as 2 clusters.\n",
    "\n",
    "Let's re-explore on Silhouette score again."
   ]
  },
  {
   "cell_type": "markdown",
   "id": "1677592c-24a7-4fe0-9d89-a41f5ba77f9a",
   "metadata": {},
   "source": [
    "#### 11.1 KMeans Implementation with 3 clusters"
   ]
  },
  {
   "cell_type": "code",
   "execution_count": 73,
   "id": "b5dc652c-a1b2-469d-aa93-c3d49a2f1492",
   "metadata": {
    "execution": {
     "iopub.execute_input": "2024-10-30T20:44:17.634472Z",
     "iopub.status.busy": "2024-10-30T20:44:17.634208Z",
     "iopub.status.idle": "2024-10-30T20:48:11.955628Z",
     "shell.execute_reply": "2024-10-30T20:48:11.954930Z",
     "shell.execute_reply.started": "2024-10-30T20:44:17.634440Z"
    },
    "tags": []
   },
   "outputs": [
    {
     "data": {
      "application/vnd.jupyter.widget-view+json": {
       "model_id": "9fabe026964f4286aa2c080ba7dc6727",
       "version_major": 2,
       "version_minor": 0
      },
      "text/plain": [
       "VBox()"
      ]
     },
     "metadata": {},
     "output_type": "display_data"
    },
    {
     "data": {
      "application/vnd.jupyter.widget-view+json": {
       "model_id": "",
       "version_major": 2,
       "version_minor": 0
      },
      "text/plain": [
       "FloatProgress(value=0.0, bar_style='info', description='Progress:', layout=Layout(height='25px', width='50%'),…"
      ]
     },
     "metadata": {},
     "output_type": "display_data"
    },
    {
     "name": "stderr",
     "output_type": "stream",
     "text": [
      "Exception in thread cell_monitor-73:\n",
      "Traceback (most recent call last):\n",
      "  File \"/mnt/notebook-env/lib/python3.9/threading.py\", line 980, in _bootstrap_inner\n",
      "    self.run()\n",
      "  File \"/mnt/notebook-env/lib/python3.9/threading.py\", line 917, in run\n",
      "    self._target(*self._args, **self._kwargs)\n",
      "  File \"/mnt/notebook-env/lib/python3.9/site-packages/awseditorssparkmonitoringwidget/cellmonitor.py\", line 178, in cell_monitor\n",
      "    job_binned_stages[job_id][stage_id] = all_stages[stage_id]\n",
      "KeyError: 8498\n"
     ]
    },
    {
     "name": "stdout",
     "output_type": "stream",
     "text": [
      "Best Silhouette Score for 3 Clusters: 0.6444632083283584\n",
      "Best Parameters for 3 Clusters: maxIter=20, tol=0.0001"
     ]
    }
   ],
   "source": [
    "from pyspark.ml.clustering import KMeans\n",
    "from pyspark.ml.evaluation import ClusteringEvaluator\n",
    "\n",
    "# Fine-tune K-Means with k=3\n",
    "k = 3\n",
    "kmeans_3 = KMeans(featuresCol=\"model_features\", k=k, seed=1)\n",
    "\n",
    "# Set different values for maxIter and tol to fine-tune the model\n",
    "max_iter_values_3 = [10, 20, 50, 100]\n",
    "tol_values_3 = [1e-4, 1e-5, 1e-6]\n",
    "\n",
    "best_model_3 = None\n",
    "best_silhouette_3 = -1\n",
    "\n",
    "for max_iter in max_iter_values_3:\n",
    "    for tol in tol_values_3:\n",
    "        kmeans_3.setMaxIter(max_iter)\n",
    "        kmeans_3.setTol(tol)\n",
    "        model_3 = kmeans_3.fit(model_df)\n",
    "        predictions_3 = model_3.transform(model_df)\n",
    "        evaluator_3 = ClusteringEvaluator(featuresCol=\"model_features\", metricName=\"silhouette\")\n",
    "        silhouette_3 = evaluator_3.evaluate(predictions_3)\n",
    "        \n",
    "        if silhouette_3 > best_silhouette_3:\n",
    "            best_silhouette_3 = silhouette_3\n",
    "            best_model_3 = model_3\n",
    "\n",
    "print(f\"Best Silhouette Score for 3 Clusters: {best_silhouette_3}\")\n",
    "print(f\"Best Parameters for 3 Clusters: maxIter={best_model_3.getMaxIter()}, tol={best_model_3.getTol()}\")"
   ]
  },
  {
   "cell_type": "code",
   "execution_count": 75,
   "id": "449ea5e0-a658-4b50-8cdc-ab5eae943f5a",
   "metadata": {
    "execution": {
     "iopub.execute_input": "2024-10-30T20:51:14.182479Z",
     "iopub.status.busy": "2024-10-30T20:51:14.182102Z",
     "iopub.status.idle": "2024-10-30T20:51:19.536735Z",
     "shell.execute_reply": "2024-10-30T20:51:19.535775Z",
     "shell.execute_reply.started": "2024-10-30T20:51:14.182430Z"
    },
    "tags": []
   },
   "outputs": [
    {
     "data": {
      "application/vnd.jupyter.widget-view+json": {
       "model_id": "bffcbe9da38845f68a0cf7039ffa9326",
       "version_major": 2,
       "version_minor": 0
      },
      "text/plain": [
       "VBox()"
      ]
     },
     "metadata": {},
     "output_type": "display_data"
    },
    {
     "data": {
      "application/vnd.jupyter.widget-view+json": {
       "model_id": "",
       "version_major": 2,
       "version_minor": 0
      },
      "text/plain": [
       "FloatProgress(value=0.0, bar_style='info', description='Progress:', layout=Layout(height='25px', width='50%'),…"
      ]
     },
     "metadata": {},
     "output_type": "display_data"
    },
    {
     "name": "stdout",
     "output_type": "stream",
     "text": [
      "+--------------------+---+------+-----------+-----------+--------+--------------+-------------+------------------+------------------+---------------------+------------------+-------------------+------------+------------------------+------------------+--------------------+--------------+-----------------+\n",
      "|          CustomerID|Age|Gender|   Location|  Education|  Income|MarriageStatus|LoyaltyStatus|total_transactions|       total_spent|avg_transaction_value|last_purchase_date|total_emails_opened|total_clicks|total_points_accumulated|total_pages_viewed|avg_session_duration|total_sessions|KMeans_3_Clusters|\n",
      "+--------------------+---+------+-----------+-----------+--------+--------------+-------------+------------------+------------------+---------------------+------------------+-------------------+------------+------------------------+------------------+--------------------+--------------+-----------------+\n",
      "|4fdb8961-447c-433...| 38|  Male|    Phoenix|   Bachelor|51526.43|        Single|       Bronze|                27|13090.086709314559|   484.81802627090957|        2024-10-23|                309|         109|                    7150|               171|  23.744545454545456|            11|                2|\n",
      "|9165bb00-78a4-44c...| 65|Female|Los Angeles|High School|38548.57|       Married|         Gold|                34|32595.543294220104|     958.692449830003|        2024-10-02|               1305|         718|                   27737|               777|              97.171|            10|                1|\n",
      "|6e19ed05-6180-460...| 70|  Male|    Chicago|High School|31420.64|        Single|       Silver|                25|25997.724137917827|   1039.9089655167131|        2024-10-06|                879|         560|                   25996|              1775|   94.76736842105261|            19|                1|\n",
      "|353d0bed-2332-4a9...| 33|Female|    Chicago|High School|57504.97|       Married|       Bronze|                38|26822.723905302242|    705.8611554026905|        2024-10-24|                698|         351|                   14726|              1129|  40.546956521739126|            23|                0|\n",
      "|66c01c6b-322e-47b...| 25|  Male|    Chicago|      Other|47195.57|       Married|       Bronze|                29|14620.815591158449|   504.16605486753275|        2024-10-17|                349|         163|                    7163|               348|  21.296923076923072|            13|                2|\n",
      "+--------------------+---+------+-----------+-----------+--------+--------------+-------------+------------------+------------------+---------------------+------------------+-------------------+------------+------------------------+------------------+--------------------+--------------+-----------------+\n",
      "only showing top 5 rows"
     ]
    }
   ],
   "source": [
    "from pyspark.sql.functions import col\n",
    "\n",
    "# Get the predictions from the best model for 3 clusters\n",
    "predictions = best_model_3.transform(model_df)\n",
    "\n",
    "# Select the CustomerID and prediction columns, renaming prediction to \"KMeans_3_Clusters\"\n",
    "cluster_results_3 = predictions.select(\"CustomerID\", col(\"prediction\").alias(\"KMeans_3_Clusters\"))\n",
    "\n",
    "# Join the cluster results with the combined_df\n",
    "combined_df_with_clusters = combined_df.join(cluster_results_3, on=\"CustomerID\", how=\"left\")\n",
    "\n",
    "# Show the resulting DataFrame with the new cluster column for 3 clusters\n",
    "combined_df_with_clusters.show(5)"
   ]
  },
  {
   "cell_type": "markdown",
   "id": "48a5b86c-c98a-4de7-bc6a-851478433f45",
   "metadata": {
    "tags": []
   },
   "source": [
    "#### 11.2 Numeric Characteristics of Clusters"
   ]
  },
  {
   "cell_type": "markdown",
   "id": "f3f2ba32-281b-439f-81e7-1a98e4d68c34",
   "metadata": {},
   "source": [
    "- **Cluster Size**"
   ]
  },
  {
   "cell_type": "code",
   "execution_count": 76,
   "id": "f227cf47-0a20-486c-a531-b2d72267a705",
   "metadata": {
    "execution": {
     "iopub.execute_input": "2024-10-30T20:53:15.953225Z",
     "iopub.status.busy": "2024-10-30T20:53:15.952914Z",
     "iopub.status.idle": "2024-10-30T20:53:37.350768Z",
     "shell.execute_reply": "2024-10-30T20:53:37.350020Z",
     "shell.execute_reply.started": "2024-10-30T20:53:15.953178Z"
    }
   },
   "outputs": [
    {
     "data": {
      "application/vnd.jupyter.widget-view+json": {
       "model_id": "2a6b3b9bf6e04fed8cdda59956bb966d",
       "version_major": 2,
       "version_minor": 0
      },
      "text/plain": [
       "VBox()"
      ]
     },
     "metadata": {},
     "output_type": "display_data"
    },
    {
     "data": {
      "application/vnd.jupyter.widget-view+json": {
       "model_id": "",
       "version_major": 2,
       "version_minor": 0
      },
      "text/plain": [
       "FloatProgress(value=0.0, bar_style='info', description='Progress:', layout=Layout(height='25px', width='50%'),…"
      ]
     },
     "metadata": {},
     "output_type": "display_data"
    },
    {
     "name": "stdout",
     "output_type": "stream",
     "text": [
      "KMeans Cluster Sizes:\n",
      "+-----------------+-----+\n",
      "|KMeans_3_Clusters|count|\n",
      "+-----------------+-----+\n",
      "|                1| 1638|\n",
      "|                2| 5331|\n",
      "|                0| 3031|\n",
      "+-----------------+-----+"
     ]
    }
   ],
   "source": [
    "from pyspark.sql.functions import count\n",
    "\n",
    "cluster_sizes = combined_df_with_clusters.groupBy('KMeans_3_Clusters').agg(count('*').alias('count'))\n",
    "\n",
    "print(\"KMeans Cluster Sizes:\")\n",
    "cluster_sizes.show()"
   ]
  },
  {
   "cell_type": "markdown",
   "id": "38c24c0f-53b2-4f98-9869-d89b6241cd3b",
   "metadata": {},
   "source": [
    "- **Mean Values for Each Cluster**"
   ]
  },
  {
   "cell_type": "code",
   "execution_count": 77,
   "id": "d09aa34c-4137-4c7f-90ae-a29a2a4ad2d7",
   "metadata": {
    "execution": {
     "iopub.execute_input": "2024-10-30T20:55:32.064837Z",
     "iopub.status.busy": "2024-10-30T20:55:32.064522Z",
     "iopub.status.idle": "2024-10-30T20:55:53.624650Z",
     "shell.execute_reply": "2024-10-30T20:55:53.613431Z",
     "shell.execute_reply.started": "2024-10-30T20:55:32.064801Z"
    }
   },
   "outputs": [
    {
     "data": {
      "application/vnd.jupyter.widget-view+json": {
       "model_id": "a509bdf6cbd14fce95a868e733d7410f",
       "version_major": 2,
       "version_minor": 0
      },
      "text/plain": [
       "VBox()"
      ]
     },
     "metadata": {},
     "output_type": "display_data"
    },
    {
     "data": {
      "application/vnd.jupyter.widget-view+json": {
       "model_id": "",
       "version_major": 2,
       "version_minor": 0
      },
      "text/plain": [
       "FloatProgress(value=0.0, bar_style='info', description='Progress:', layout=Layout(height='25px', width='50%'),…"
      ]
     },
     "metadata": {},
     "output_type": "display_data"
    },
    {
     "name": "stdout",
     "output_type": "stream",
     "text": [
      "Mean Values for Each Cluster:\n",
      "   KMeans_3_Clusters   mean_Age   mean_Income  mean_total_spent  \\\n",
      "0                  1  44.599512  64052.652167      29338.893162   \n",
      "1                  2  44.247983  59451.597661      10792.021590   \n",
      "2                  0  43.958430  63562.717737      20600.257690   \n",
      "\n",
      "   mean_avg_transaction_value  mean_total_transactions  \\\n",
      "0                  968.769967                30.385836   \n",
      "1                  366.863190                29.600075   \n",
      "2                  679.089404                30.494886   \n",
      "\n",
      "   mean_total_emails_opened  mean_total_clicks  mean_total_pages_viewed  \\\n",
      "0               1080.349817         618.627595              1652.048840   \n",
      "1                282.937535          94.354718               401.557494   \n",
      "2                648.672385         288.487298               904.334873   \n",
      "\n",
      "   mean_avg_session_duration  mean_total_points_accumulated  \n",
      "0                  82.620814                   25782.659951  \n",
      "1                  20.140881                    4027.081973  \n",
      "2                  45.414991                   13449.218080"
     ]
    }
   ],
   "source": [
    "from pyspark.sql import functions as F\n",
    "\n",
    "# Set Pandas option to display all columns\n",
    "pd.set_option('display.max_columns', None)\n",
    "\n",
    "# Calculate mean values for each cluster\n",
    "cluster_profiles_3 = combined_df_with_clusters_3.groupBy('KMeans_3_Clusters').agg(\n",
    "    F.mean('Age').alias('mean_Age'),\n",
    "    F.mean('Income').alias('mean_Income'),\n",
    "    F.mean('total_spent').alias('mean_total_spent'),\n",
    "    F.mean('avg_transaction_value').alias('mean_avg_transaction_value'),\n",
    "    F.mean('total_transactions').alias('mean_total_transactions'),\n",
    "    F.mean('total_emails_opened').alias('mean_total_emails_opened'),\n",
    "    F.mean('total_clicks').alias('mean_total_clicks'),\n",
    "    F.mean('total_pages_viewed').alias('mean_total_pages_viewed'),\n",
    "    F.mean('avg_session_duration').alias('mean_avg_session_duration'),\n",
    "    F.mean('total_points_accumulated').alias('mean_total_points_accumulated')\n",
    ")\n",
    "\n",
    "# Convert to Pandas DataFrame\n",
    "cluster_profiles_3_pd = cluster_profiles_3.toPandas()\n",
    "\n",
    "# Display the mean values for all clusters\n",
    "print(\"Mean Values for Each Cluster:\")\n",
    "print(cluster_profiles_3_pd)"
   ]
  },
  {
   "cell_type": "markdown",
   "id": "71a93339-6c39-4c5a-a417-372a26665fa4",
   "metadata": {},
   "source": [
    "- **Box Plots for Key Features**"
   ]
  },
  {
   "cell_type": "code",
   "execution_count": 78,
   "id": "cd6f3c08-7d63-4b3d-ac80-ea6116f45e7b",
   "metadata": {
    "execution": {
     "iopub.execute_input": "2024-10-30T20:59:46.379203Z",
     "iopub.status.busy": "2024-10-30T20:59:46.378922Z",
     "iopub.status.idle": "2024-10-30T21:00:05.925187Z",
     "shell.execute_reply": "2024-10-30T21:00:05.924222Z",
     "shell.execute_reply.started": "2024-10-30T20:59:46.379169Z"
    }
   },
   "outputs": [
    {
     "data": {
      "application/vnd.jupyter.widget-view+json": {
       "model_id": "4f03f31b899e4254880f66da7a60ff98",
       "version_major": 2,
       "version_minor": 0
      },
      "text/plain": [
       "VBox()"
      ]
     },
     "metadata": {},
     "output_type": "display_data"
    },
    {
     "data": {
      "application/vnd.jupyter.widget-view+json": {
       "model_id": "",
       "version_major": 2,
       "version_minor": 0
      },
      "text/plain": [
       "FloatProgress(value=0.0, bar_style='info', description='Progress:', layout=Layout(height='25px', width='50%'),…"
      ]
     },
     "metadata": {},
     "output_type": "display_data"
    },
    {
     "data": {
      "image/png": "[encoded data removed]",
      "text/plain": [
       "<IPython.core.display.Image object>"
      ]
     },
     "metadata": {},
     "output_type": "display_data"
    }
   ],
   "source": [
    "from pyspark.sql import functions as F\n",
    "import matplotlib.pyplot as plt\n",
    "import seaborn as sns\n",
    "\n",
    "# Select relevant columns and convert to Pandas DataFrame for 3-cluster model\n",
    "plot_data_3 = combined_df_with_clusters_3.select(\n",
    "    'KMeans_3_Clusters',\n",
    "    'total_spent',\n",
    "    'avg_transaction_value',\n",
    "    'total_points_accumulated',\n",
    "    'Age',\n",
    "    'Income',\n",
    "    'total_transactions',\n",
    "    'total_emails_opened',\n",
    "    'total_clicks',\n",
    "    'total_pages_viewed',\n",
    "    'avg_session_duration'\n",
    ").toPandas()\n",
    "\n",
    "# Create box plots for 3-cluster model\n",
    "fig, axs = plt.subplots(5, 2, figsize=(14, 20))\n",
    "sns.boxplot(x='KMeans_3_Clusters', y='total_spent', data=plot_data_3, ax=axs[0, 0])\n",
    "sns.boxplot(x='KMeans_3_Clusters', y='avg_transaction_value', data=plot_data_3, ax=axs[0, 1])\n",
    "sns.boxplot(x='KMeans_3_Clusters', y='total_points_accumulated', data=plot_data_3, ax=axs[1, 0])\n",
    "sns.boxplot(x='KMeans_3_Clusters', y='Age', data=plot_data_3, ax=axs[1, 1])\n",
    "sns.boxplot(x='KMeans_3_Clusters', y='Income', data=plot_data_3, ax=axs[2, 0])\n",
    "sns.boxplot(x='KMeans_3_Clusters', y='total_transactions', data=plot_data_3, ax=axs[2, 1])\n",
    "sns.boxplot(x='KMeans_3_Clusters', y='total_emails_opened', data=plot_data_3, ax=axs[3, 0])\n",
    "sns.boxplot(x='KMeans_3_Clusters', y='total_clicks', data=plot_data_3, ax=axs[3, 1])\n",
    "sns.boxplot(x='KMeans_3_Clusters', y='total_pages_viewed', data=plot_data_3, ax=axs[4, 0])\n",
    "sns.boxplot(x='KMeans_3_Clusters', y='avg_session_duration', data=plot_data_3, ax=axs[4, 1])\n",
    "\n",
    "plt.tight_layout()\n",
    "plt.show()\n",
    "%matplot plt"
   ]
  },
  {
   "cell_type": "markdown",
   "id": "03246ab7-c22f-4b8a-84a0-a5d0000b9455",
   "metadata": {},
   "source": [
    "#### 11.3 Characteristics of Categorical features"
   ]
  },
  {
   "cell_type": "markdown",
   "id": "31f2cacc-0a69-425c-93e8-4f1637145a9d",
   "metadata": {},
   "source": [
    "- **Education**"
   ]
  },
  {
   "cell_type": "code",
   "execution_count": 79,
   "id": "f56ba859-1c90-41cc-b95a-c8237a6ff700",
   "metadata": {
    "execution": {
     "iopub.execute_input": "2024-10-30T21:01:33.115264Z",
     "iopub.status.busy": "2024-10-30T21:01:33.114993Z",
     "iopub.status.idle": "2024-10-30T21:01:52.796762Z",
     "shell.execute_reply": "2024-10-30T21:01:52.795948Z",
     "shell.execute_reply.started": "2024-10-30T21:01:33.115231Z"
    }
   },
   "outputs": [
    {
     "data": {
      "application/vnd.jupyter.widget-view+json": {
       "model_id": "2c60b890938f4b91ba33751febaa02cb",
       "version_major": 2,
       "version_minor": 0
      },
      "text/plain": [
       "VBox()"
      ]
     },
     "metadata": {},
     "output_type": "display_data"
    },
    {
     "data": {
      "application/vnd.jupyter.widget-view+json": {
       "model_id": "",
       "version_major": 2,
       "version_minor": 0
      },
      "text/plain": [
       "FloatProgress(value=0.0, bar_style='info', description='Progress:', layout=Layout(height='25px', width='50%'),…"
      ]
     },
     "metadata": {},
     "output_type": "display_data"
    },
    {
     "name": "stdout",
     "output_type": "stream",
     "text": [
      "Cluster Demographics (Education) for 3 Clusters:\n",
      "+-----------------+------------------+------------------+-------------------+-------------------+--------------------+\n",
      "|KMeans_3_Clusters|          Bachelor|       High School|             Master|              Other|                 PhD|\n",
      "+-----------------+------------------+------------------+-------------------+-------------------+--------------------+\n",
      "|                1|0.3882783882783883|0.2783882783882784|0.21855921855921856|0.05372405372405373| 0.06105006105006105|\n",
      "|                2|0.3991746389045207|0.3147627086850497|0.19395985743762897|0.05008441193021947| 0.04201838304258113|\n",
      "|                0|0.4163642362256681|0.2678983833718245|0.21082151105245794|0.05278785879247773|0.052128010557571755|\n",
      "+-----------------+------------------+------------------+-------------------+-------------------+--------------------+"
     ]
    }
   ],
   "source": [
    "from pyspark.sql import functions as F\n",
    "\n",
    "# Calculate the count of each Education level within each KMeans_3_Cluster\n",
    "education_counts_3 = combined_df_with_clusters_3.groupBy('KMeans_3_Clusters', 'Education').count()\n",
    "\n",
    "# Pivot the table to get a crosstab-like structure\n",
    "cluster_demographics_3 = education_counts_3.groupBy('KMeans_3_Clusters').pivot('Education').agg(F.first('count'))\n",
    "\n",
    "# Normalize the counts by the total number of entries in each cluster\n",
    "total_counts_3 = education_counts_3.groupBy('KMeans_3_Clusters').agg(F.sum('count').alias('total'))\n",
    "cluster_demographics_3 = cluster_demographics_3.join(total_counts_3, on='KMeans_3_Clusters')\n",
    "for col in cluster_demographics_3.columns:\n",
    "    if col not in ['KMeans_3_Clusters', 'total']:\n",
    "        cluster_demographics_3 = cluster_demographics_3.withColumn(col, F.col(col) / F.col('total'))\n",
    "\n",
    "# Drop the total column as it's no longer needed\n",
    "cluster_demographics_3 = cluster_demographics_3.drop('total')\n",
    "\n",
    "# Show the result\n",
    "print(\"Cluster Demographics (Education) for 3 Clusters:\")\n",
    "cluster_demographics_3.show()"
   ]
  },
  {
   "cell_type": "markdown",
   "id": "6731f5e9-af4b-4a55-a1da-da6fa81f9985",
   "metadata": {},
   "source": [
    "- **Loyalty Status**"
   ]
  },
  {
   "cell_type": "code",
   "execution_count": 80,
   "id": "083ba9ab-f606-4e49-babe-96416f1795c6",
   "metadata": {
    "execution": {
     "iopub.execute_input": "2024-10-30T21:02:44.196647Z",
     "iopub.status.busy": "2024-10-30T21:02:44.196283Z",
     "iopub.status.idle": "2024-10-30T21:02:49.599155Z",
     "shell.execute_reply": "2024-10-30T21:02:49.598442Z",
     "shell.execute_reply.started": "2024-10-30T21:02:44.196598Z"
    }
   },
   "outputs": [
    {
     "data": {
      "application/vnd.jupyter.widget-view+json": {
       "model_id": "06e7a663648744e38e774d8c78980ab5",
       "version_major": 2,
       "version_minor": 0
      },
      "text/plain": [
       "VBox()"
      ]
     },
     "metadata": {},
     "output_type": "display_data"
    },
    {
     "data": {
      "application/vnd.jupyter.widget-view+json": {
       "model_id": "",
       "version_major": 2,
       "version_minor": 0
      },
      "text/plain": [
       "FloatProgress(value=0.0, bar_style='info', description='Progress:', layout=Layout(height='25px', width='50%'),…"
      ]
     },
     "metadata": {},
     "output_type": "display_data"
    },
    {
     "name": "stdout",
     "output_type": "stream",
     "text": [
      "Cluster Demographics (LoyaltyStatus) for 3 Clusters:\n",
      "+-----------------+--------------------+--------------------+--------------------+-------------------+\n",
      "|KMeans_3_Clusters|               Basic|              Bronze|                Gold|             Silver|\n",
      "+-----------------+--------------------+--------------------+--------------------+-------------------+\n",
      "|                1|                NULL|0.007936507936507936|  0.4633699633699634| 0.5286935286935287|\n",
      "|                2|  0.8291127368223598| 0.17088726317764022|                NULL|               NULL|\n",
      "|                0|0.035961728802375456|  0.5839656878917849|0.001649620587264929|0.37842296271857473|\n",
      "+-----------------+--------------------+--------------------+--------------------+-------------------+"
     ]
    }
   ],
   "source": [
    "from pyspark.sql import functions as F\n",
    "\n",
    "# Calculate the count of each LoyaltyStatus within each KMeans_3_Cluster\n",
    "loyalty_counts_3 = combined_df_with_clusters_3.groupBy('KMeans_3_Clusters', 'LoyaltyStatus').count()\n",
    "\n",
    "# Pivot the table to get a crosstab-like structure\n",
    "cluster_demographics_3 = loyalty_counts_3.groupBy('KMeans_3_Clusters').pivot('LoyaltyStatus').agg(F.first('count'))\n",
    "\n",
    "# Normalize the counts by the total number of entries in each cluster\n",
    "total_counts_3 = loyalty_counts_3.groupBy('KMeans_3_Clusters').agg(F.sum('count').alias('total'))\n",
    "cluster_demographics_3 = cluster_demographics_3.join(total_counts_3, on='KMeans_3_Clusters')\n",
    "for col in cluster_demographics_3.columns:\n",
    "    if col not in ['KMeans_3_Clusters', 'total']:\n",
    "        cluster_demographics_3 = cluster_demographics_3.withColumn(col, F.col(col) / F.col('total'))\n",
    "\n",
    "# Drop the total column as it's no longer needed\n",
    "cluster_demographics_3 = cluster_demographics_3.drop('total')\n",
    "\n",
    "# Show the result\n",
    "print(\"Cluster Demographics (LoyaltyStatus) for 3 Clusters:\")\n",
    "cluster_demographics_3.show()"
   ]
  },
  {
   "cell_type": "markdown",
   "id": "54ee873d-4443-4483-b422-08401ff0a79e",
   "metadata": {},
   "source": [
    "- **Preferred Categories**"
   ]
  },
  {
   "cell_type": "code",
   "execution_count": 81,
   "id": "13b7de39-a742-4b81-a3bf-a98977618410",
   "metadata": {
    "execution": {
     "iopub.execute_input": "2024-10-30T21:04:47.162899Z",
     "iopub.status.busy": "2024-10-30T21:04:47.162589Z",
     "iopub.status.idle": "2024-10-30T21:05:06.576050Z",
     "shell.execute_reply": "2024-10-30T21:05:06.575111Z",
     "shell.execute_reply.started": "2024-10-30T21:04:47.162861Z"
    }
   },
   "outputs": [
    {
     "data": {
      "application/vnd.jupyter.widget-view+json": {
       "model_id": "0d3bbb6ce9d54c9fb9e094958dc370f3",
       "version_major": 2,
       "version_minor": 0
      },
      "text/plain": [
       "VBox()"
      ]
     },
     "metadata": {},
     "output_type": "display_data"
    },
    {
     "data": {
      "application/vnd.jupyter.widget-view+json": {
       "model_id": "",
       "version_major": 2,
       "version_minor": 0
      },
      "text/plain": [
       "FloatProgress(value=0.0, bar_style='info', description='Progress:', layout=Layout(height='25px', width='50%'),…"
      ]
     },
     "metadata": {},
     "output_type": "display_data"
    },
    {
     "name": "stderr",
     "output_type": "stream",
     "text": [
      "Exception in thread cell_monitor-81:\n",
      "Traceback (most recent call last):\n",
      "  File \"/mnt/notebook-env/lib/python3.9/threading.py\", line 980, in _bootstrap_inner\n",
      "    self.run()\n",
      "  File \"/mnt/notebook-env/lib/python3.9/threading.py\", line 917, in run\n",
      "    self._target(*self._args, **self._kwargs)\n",
      "  File \"/mnt/notebook-env/lib/python3.9/site-packages/awseditorssparkmonitoringwidget/cellmonitor.py\", line 178, in cell_monitor\n",
      "    job_binned_stages[job_id][stage_id] = all_stages[stage_id]\n",
      "KeyError: 10296\n"
     ]
    },
    {
     "name": "stdout",
     "output_type": "stream",
     "text": [
      "Preferred Product Categories per Cluster for 3 Clusters:\n",
      "+-----------------+-------------------+-------------------+-------------------+-------------------+-------------------+\n",
      "|KMeans_3_Clusters|              Books|           Clothing|        Electronics|     Home & Kitchen|             Sports|\n",
      "+-----------------+-------------------+-------------------+-------------------+-------------------+-------------------+\n",
      "|                1|0.19062926946877762| 0.1969581290685526| 0.2085509925259182|0.20282488145945513|0.20103672747729648|\n",
      "|                2| 0.2034626547864992|0.20299370080736132|0.19415962179495305|0.19907096414403225|0.20031305846715422|\n",
      "|                0|0.19426593097479172|0.19806339932922212|0.20883912149734934| 0.1974899924267013|0.20134155577193552|\n",
      "+-----------------+-------------------+-------------------+-------------------+-------------------+-------------------+"
     ]
    }
   ],
   "source": [
    "from pyspark.sql import functions as F\n",
    "\n",
    "# Join transactions_df with combined_df_with_clusters_3 on 'CustomerID'\n",
    "purchase_patterns_3 = transactions_df.join(combined_df_with_clusters_3.select('CustomerID', 'KMeans_3_Clusters'), on='CustomerID')\n",
    "\n",
    "# Calculate the count of each ProductCategory within each KMeans_3_Cluster\n",
    "category_counts_3 = purchase_patterns_3.groupBy('KMeans_3_Clusters', 'ProductCategory').count()\n",
    "\n",
    "# Pivot the table to get a crosstab-like structure\n",
    "preferred_categories_3 = category_counts_3.groupBy('KMeans_3_Clusters').pivot('ProductCategory').agg(F.first('count'))\n",
    "\n",
    "# Normalize the counts by the total number of entries in each cluster\n",
    "total_counts_3 = category_counts_3.groupBy('KMeans_3_Clusters').agg(F.sum('count').alias('total'))\n",
    "preferred_categories_normalized_3 = preferred_categories_3.join(total_counts_3, on='KMeans_3_Clusters')\n",
    "for col in preferred_categories_normalized_3.columns:\n",
    "    if col not in ['KMeans_3_Clusters', 'total']:\n",
    "        preferred_categories_normalized_3 = preferred_categories_normalized_3.withColumn(col, F.col(col) / F.col('total'))\n",
    "\n",
    "# Drop the total column as it's no longer needed\n",
    "preferred_categories_normalized_3 = preferred_categories_normalized_3.drop('total')\n",
    "\n",
    "# Show the result\n",
    "print(\"Preferred Product Categories per Cluster for 3 Clusters:\")\n",
    "preferred_categories_normalized_3.show()"
   ]
  },
  {
   "cell_type": "markdown",
   "id": "3419a1d5-2815-464b-96a5-dfbddc38b0a6",
   "metadata": {},
   "source": [
    "#### 11.4 Key Insights on Cluster 2: High-Risk Customers"
   ]
  },
  {
   "cell_type": "markdown",
   "id": "ff122c62-d072-42ab-8d36-8536484e5b46",
   "metadata": {},
   "source": [
    "1. **Proportion of Total Customers**\n",
    " \n",
    "    Cluster 1 represents a substantial portion of the total customer base, indicating that over 50% of these customers could be considered at risk.\n",
    "\n",
    "2. **Spending and Engagement**\n",
    " \n",
    "    Customers within this cluster exhibit considerably lower spending and engagement scores, indicating limited interaction with the brand.\n",
    " \n",
    "3. **Loyalty Status**\n",
    " \n",
    "    The majority of these customers fall into the Basic loyalty tier, with a small number classified as Bronze.\n",
    " \n",
    "4. **Age and Income**\n",
    " \n",
    "    While there are no significant differences in age compared to other clusters, the income levels of these customers are slightly lower, though the difference is not substantial.\n",
    " \n",
    "Additionally, other characteristics such as education and preferred product categories do not show notable variations when compared to other clusters."
   ]
  },
  {
   "cell_type": "markdown",
   "id": "8d0ad51e-4fa8-487a-b9b8-a417d07a7642",
   "metadata": {},
   "source": [
    "#### 11.5 Business Strategy and Recommendations"
   ]
  },
  {
   "cell_type": "markdown",
   "id": "f5b88c96-d40c-4301-a241-708780b31701",
   "metadata": {},
   "source": [
    "1. **Re-engagement Initiatives**\n",
    "\n",
    "    Launch targeted campaigns to re-engage these customers with personalized offers and discounts to encourage purchases.\n",
    "\n",
    "2. **Loyalty Program Adjustments**\n",
    "\n",
    "    Enhance loyalty programs to provide incentives for increased engagement and repeat purchases.\n",
    "\n",
    "3. **Personalized Communication**\n",
    "\n",
    "    Use personalized communication strategies to address their specific needs and preferences, fostering a stronger connection with the brand.\n",
    "\n",
    "4. **Feedback Mechanisms**\n",
    "\n",
    "    Implement feedback mechanisms to understand their disengagement reasons and adjust offerings accordingly."
   ]
  }
 ],
 "metadata": {
  "kernelspec": {
   "display_name": "PySpark",
   "language": "python",
   "name": "pysparkkernel"
  },
  "language_info": {
   "codemirror_mode": {
    "name": "python",
    "version": 3
   },
   "file_extension": ".py",
   "mimetype": "text/x-python",
   "name": "pyspark",
   "pygments_lexer": "python3"
  }
 },
 "nbformat": 4,
 "nbformat_minor": 5
}
